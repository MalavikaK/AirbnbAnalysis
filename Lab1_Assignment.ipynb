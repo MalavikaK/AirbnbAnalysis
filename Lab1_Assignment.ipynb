{
  "cells": [
    {
      "cell_type": "markdown",
      "metadata": {
        "id": "view-in-github",
        "colab_type": "text"
      },
      "source": [
        "<a href=\"https://colab.research.google.com/github/MalavikaK/AirbnbAnalysis/blob/main/Lab1_Assignment.ipynb\" target=\"_parent\"><img src=\"https://colab.research.google.com/assets/colab-badge.svg\" alt=\"Open In Colab\"/></a>"
      ]
    },
    {
      "cell_type": "code",
      "execution_count": null,
      "id": "c44bf2ad",
      "metadata": {
        "id": "c44bf2ad"
      },
      "outputs": [],
      "source": [
        "import pandas as pd\n",
        "import numpy as np\n",
        "from sklearn.model_selection import train_test_split\n",
        "from tqdm import tqdm\n",
        "import matplotlib.pyplot as plt\n",
        "import pdb\n",
        "from google.colab import files"
      ]
    },
    {
      "cell_type": "markdown",
      "source": [
        "## FUNCTION"
      ],
      "metadata": {
        "id": "ISjYo49bKlGG"
      },
      "id": "ISjYo49bKlGG"
    },
    {
      "cell_type": "code",
      "execution_count": null,
      "id": "86e85754",
      "metadata": {
        "id": "86e85754"
      },
      "outputs": [],
      "source": [
        "class LinearRegression:\n",
        "    def __init__(self, X,y,learningRate,tolerance,maxIteration,lamda=0.05,\n",
        "                 batch_size=1,gd=False,reg=False,sgd=False)->None:\n",
        "        self.X=X\n",
        "        self.y=y\n",
        "        self.tolerance=tolerance\n",
        "        self.learningRate=learningRate\n",
        "        self.maxIteration=maxIteration\n",
        "        self.gd=gd\n",
        "        self.lamda=lamda\n",
        "        self.reg=reg\n",
        "        self.sgd=sgd\n",
        "        self.batch_size=batch_size\n",
        "  \n",
        "    def trainTestSplit(self):\n",
        "        X_train,X_test,y_train,y_test=train_test_split(self.X,self.y,\n",
        "                                                       test_size=0.3,\n",
        "                                                       random_state=0)\n",
        "        return X_train, X_test,y_train,y_test\n",
        "    \n",
        "    #Adding constant feature -- Columns of 1's\n",
        "    def add_X0(self,X):\n",
        "        return np.column_stack([np.ones([X.shape[0],1]),X]) \n",
        "        \n",
        "    # Feed only the training dataset       \n",
        "    def normalize(self,X):\n",
        "        mean=np.mean(X,0)\n",
        "        sd=np.std(X,0)\n",
        "        X_norm=(X-mean)/sd\n",
        "        X_norm=self.add_X0(X_norm)\n",
        "        return X_norm, mean, sd\n",
        "    \n",
        "    # Using parameters of train to normalize test set\n",
        "    def normalizeTestData(self, X, trainMean,trainSd):\n",
        "        X_norm=(X-trainMean)/trainSd\n",
        "        X_norm=self.add_X0(X_norm)\n",
        "        return X_norm\n",
        "    \n",
        "    \n",
        "    def rank(self,X,eps=1e-12):\n",
        "      # singular value decomposition\n",
        "        u,s,vh=np.linalg.svd(X)                                 \n",
        "        #u, sigma, v transpose\n",
        "        return \"Rank : \" + str (len([x for x in s if abs(x)>eps]) ) \n",
        "          #Return # of non-zero eigen values    \n",
        "\n",
        "\n",
        "  # Check rank of matrix\n",
        "    def checkMatrix(self,X):\n",
        "        X_rank=np.linalg.matrix_rank(X)     \n",
        "        if X_rank==min(X.shape[0],X.shape[1]):\n",
        "            self.fullRank=True\n",
        "            print(\"Data is Full Rank\")\n",
        "        else:\n",
        "            self.fullRank=False\n",
        "            print(\"Data is not Full Rank\")\n",
        "            \n",
        "   #Check dimension greater than or less than rows \n",
        "    def checkInvertibility(self,X):\n",
        "        if X.shape[0]<X.shape[1]:\n",
        "            self.lowRank=True\n",
        "            print(\"Data is low Rank\")\n",
        "        else:\n",
        "            self.lowRank=False\n",
        "            print(\"Data is not low Rank\")\n",
        "    \n",
        "    def closedFormSolution(self,X,y,reg):\n",
        "        if reg==False:\n",
        "            w=np.linalg.inv(X.T.dot(X)).dot(X.T).dot(y)   \n",
        "        else:\n",
        "            #self.lamda=0.0001 ==> declared above\n",
        "            w=np.linalg.inv(X.T.dot(X)+ \n",
        "                        self.lamda*(np.identity(X.shape[1]))).dot(X.T).dot(y)\n",
        "        return w    \n",
        "    \n",
        "    def gradientDescent(self,X,y,reg):\n",
        "        # storing error values to track , if it reduces\n",
        "        errorSequences=[]\n",
        "        last=float('inf')                        \n",
        "        for t in tqdm(range(self.maxIteration)):    \n",
        "          # can use trange instead of tqdm\n",
        "            self.w=self.w-self.learningRate *self.costDerivative(X,y)\n",
        "            cur=self.sse(X,y)\n",
        "            diff=last-cur              \n",
        "            last=cur\n",
        "            errorSequences.append(cur)\n",
        "            if abs(diff)< self.tolerance:\n",
        "                print(\"The model stopped as error is too low and meets the stopping criteria\")\n",
        "                break\n",
        "        self.plot(errorSequences)\n",
        "\n",
        "\n",
        "    def stochasticGradientDescent(self,X,y):\n",
        "        errorSequences=[]\n",
        "        last=float('inf')                   \n",
        "        sigma=0.0000001\n",
        "        tao=0.01\n",
        "        cur=0\n",
        "        diff=0\n",
        "        for t in tqdm(range(self.maxIteration)):            \n",
        "            \n",
        "  \n",
        "            \n",
        "            for i in range(0,X.shape[0],self.batch_size):\n",
        "                Xk=X[i:i+self.batch_size,:]\n",
        "                yk=y[i:i+self.batch_size]\n",
        "                self.w=self.w - (self.learningRate* self.costDerivative(X,y))\n",
        "            \n",
        "            cur=self.sse(X,y)\n",
        "            diff=last-cur          \n",
        "            last=cur\n",
        "            errorSequences.append(cur)\n",
        "\n",
        "            if diff< self.tolerance:\n",
        "                print(\"The model stopped -no further improvement\")\n",
        "                self.plot(errorSequences)\n",
        "                break\n",
        "        self.plot(errorSequences)\n",
        "    def plot(self,errorSequences):\n",
        "        plt.ticklabel_format(style='plain')\n",
        "        \n",
        "        plt.plot(errorSequences)\n",
        "        plt.xlabel('Number of Iterations')\n",
        "        plt.ylabel('Sum of Squared Error')\n",
        "            \n",
        "\n",
        "    \n",
        "  \n",
        "    def sse(self,X,y):\n",
        "        y_hat=self.predict(X)\n",
        "        return ((y_hat-y)**2).sum()\n",
        "    \n",
        "    #Predict Function\n",
        "    \n",
        "    def predict(self,X):\n",
        "        return X.dot(self.w) #w is theta\n",
        "    \n",
        "       \n",
        "    def rmse(self,X,y):\n",
        "        y_hat=self.predict(X)\n",
        "        return np.sqrt((((y_hat-y)**2)/X.shape[0]).sum())\n",
        "    \n",
        "\n",
        "    def costFunction(self,X,y):\n",
        "        return self.rmse(X,y)/2\n",
        " \n",
        "    \n",
        "    def costDerivative(self,X,y):\n",
        "        y_hat=self.predict(X)\n",
        "        if self.reg==False:\n",
        "            return (y_hat-y).dot(X)\n",
        "        else:\n",
        "            return (y_hat-y).dot(X)+(self.lamda * self.w)\n",
        "\n",
        "            \n",
        "        \n",
        "    # IF else condition , based on closed form / Gradient descent / SGD\n",
        "    def fit(self):\n",
        "        \n",
        "        self.X_train,self.X_test,self.y_train,self.y_test=self.trainTestSplit()\n",
        "        self.X_train,self.mean,self.sd=self.normalize(self.X_train)\n",
        "        self.X_test=self.normalizeTestData(self.X_test, self.mean, self.sd)\n",
        "        \n",
        "        self.checkMatrix(self.X_train)\n",
        "        self.checkInvertibility(self.X_train)\n",
        "        \n",
        "        if self.fullRank and not self.lowRank and not self.gd and not self.sgd:\n",
        "            print(\"Solving using closed form solution\")\n",
        "            self.w=self.closedFormSolution(self.X_train,self.y_train,self.reg)\n",
        "            \n",
        "        elif self.gd and not self.sgd:\n",
        "            print(\"Solving using gradient descent\")\n",
        "            #initializing weights as 0\n",
        "            self.w=np.ones(self.X_train.shape[1],dtype=np.float64)*0\n",
        "            self.gradientDescent(self.X_train,self.y_train,self.reg)\n",
        "        else:\n",
        "            print(\"Solving using Stochastic Gradient Descent\")\n",
        "            #initializing weights as 0\n",
        "            self.w=np.ones(self.X_train.shape[1],dtype=np.float64)*0\n",
        "            self.stochasticGradientDescent(self.X_train,self.y_train)\n",
        "        print(\"\\n\")\n",
        "        print(\"Weights: \"+str(self.w))\n",
        "        print(\"Errors in train dataset:\")\n",
        "        print(\"\\n\")\n",
        "        print(\"RMSE: \"+str(self.rmse(self.X_train,self.y_train)))\n",
        "        print(\"SSE: \"+str(self.sse(self.X_train,self.y_train)))\n",
        "        print(\"\\n\")\n",
        "        print(\"Errors in test dataset:\")\n",
        "        print(\"RMSE: \"+str(self.rmse(self.X_test,self.y_test)))\n",
        "        print(\"SSE: \"+str(self.sse(self.X_test,self.y_test)))\n",
        "        \n",
        "        \n",
        "        "
      ]
    },
    {
      "cell_type": "markdown",
      "source": [
        "## HOUSING DATASET"
      ],
      "metadata": {
        "id": "NeNodzUDJQxs"
      },
      "id": "NeNodzUDJQxs"
    },
    {
      "cell_type": "code",
      "source": [
        "df1 = files.upload()"
      ],
      "metadata": {
        "colab": {
          "base_uri": "https://localhost:8080/",
          "height": 74
        },
        "id": "qtDS1IzBJaQB",
        "outputId": "0cd80d7f-6fdc-4ea2-bbaa-7e0772439dc7"
      },
      "id": "qtDS1IzBJaQB",
      "execution_count": null,
      "outputs": [
        {
          "output_type": "display_data",
          "data": {
            "text/plain": [
              "<IPython.core.display.HTML object>"
            ],
            "text/html": [
              "\n",
              "     <input type=\"file\" id=\"files-a28ff8cd-8143-4d74-a526-20ac39d3cec5\" name=\"files[]\" multiple disabled\n",
              "        style=\"border:none\" />\n",
              "     <output id=\"result-a28ff8cd-8143-4d74-a526-20ac39d3cec5\">\n",
              "      Upload widget is only available when the cell has been executed in the\n",
              "      current browser session. Please rerun this cell to enable.\n",
              "      </output>\n",
              "      <script>// Copyright 2017 Google LLC\n",
              "//\n",
              "// Licensed under the Apache License, Version 2.0 (the \"License\");\n",
              "// you may not use this file except in compliance with the License.\n",
              "// You may obtain a copy of the License at\n",
              "//\n",
              "//      http://www.apache.org/licenses/LICENSE-2.0\n",
              "//\n",
              "// Unless required by applicable law or agreed to in writing, software\n",
              "// distributed under the License is distributed on an \"AS IS\" BASIS,\n",
              "// WITHOUT WARRANTIES OR CONDITIONS OF ANY KIND, either express or implied.\n",
              "// See the License for the specific language governing permissions and\n",
              "// limitations under the License.\n",
              "\n",
              "/**\n",
              " * @fileoverview Helpers for google.colab Python module.\n",
              " */\n",
              "(function(scope) {\n",
              "function span(text, styleAttributes = {}) {\n",
              "  const element = document.createElement('span');\n",
              "  element.textContent = text;\n",
              "  for (const key of Object.keys(styleAttributes)) {\n",
              "    element.style[key] = styleAttributes[key];\n",
              "  }\n",
              "  return element;\n",
              "}\n",
              "\n",
              "// Max number of bytes which will be uploaded at a time.\n",
              "const MAX_PAYLOAD_SIZE = 100 * 1024;\n",
              "\n",
              "function _uploadFiles(inputId, outputId) {\n",
              "  const steps = uploadFilesStep(inputId, outputId);\n",
              "  const outputElement = document.getElementById(outputId);\n",
              "  // Cache steps on the outputElement to make it available for the next call\n",
              "  // to uploadFilesContinue from Python.\n",
              "  outputElement.steps = steps;\n",
              "\n",
              "  return _uploadFilesContinue(outputId);\n",
              "}\n",
              "\n",
              "// This is roughly an async generator (not supported in the browser yet),\n",
              "// where there are multiple asynchronous steps and the Python side is going\n",
              "// to poll for completion of each step.\n",
              "// This uses a Promise to block the python side on completion of each step,\n",
              "// then passes the result of the previous step as the input to the next step.\n",
              "function _uploadFilesContinue(outputId) {\n",
              "  const outputElement = document.getElementById(outputId);\n",
              "  const steps = outputElement.steps;\n",
              "\n",
              "  const next = steps.next(outputElement.lastPromiseValue);\n",
              "  return Promise.resolve(next.value.promise).then((value) => {\n",
              "    // Cache the last promise value to make it available to the next\n",
              "    // step of the generator.\n",
              "    outputElement.lastPromiseValue = value;\n",
              "    return next.value.response;\n",
              "  });\n",
              "}\n",
              "\n",
              "/**\n",
              " * Generator function which is called between each async step of the upload\n",
              " * process.\n",
              " * @param {string} inputId Element ID of the input file picker element.\n",
              " * @param {string} outputId Element ID of the output display.\n",
              " * @return {!Iterable<!Object>} Iterable of next steps.\n",
              " */\n",
              "function* uploadFilesStep(inputId, outputId) {\n",
              "  const inputElement = document.getElementById(inputId);\n",
              "  inputElement.disabled = false;\n",
              "\n",
              "  const outputElement = document.getElementById(outputId);\n",
              "  outputElement.innerHTML = '';\n",
              "\n",
              "  const pickedPromise = new Promise((resolve) => {\n",
              "    inputElement.addEventListener('change', (e) => {\n",
              "      resolve(e.target.files);\n",
              "    });\n",
              "  });\n",
              "\n",
              "  const cancel = document.createElement('button');\n",
              "  inputElement.parentElement.appendChild(cancel);\n",
              "  cancel.textContent = 'Cancel upload';\n",
              "  const cancelPromise = new Promise((resolve) => {\n",
              "    cancel.onclick = () => {\n",
              "      resolve(null);\n",
              "    };\n",
              "  });\n",
              "\n",
              "  // Wait for the user to pick the files.\n",
              "  const files = yield {\n",
              "    promise: Promise.race([pickedPromise, cancelPromise]),\n",
              "    response: {\n",
              "      action: 'starting',\n",
              "    }\n",
              "  };\n",
              "\n",
              "  cancel.remove();\n",
              "\n",
              "  // Disable the input element since further picks are not allowed.\n",
              "  inputElement.disabled = true;\n",
              "\n",
              "  if (!files) {\n",
              "    return {\n",
              "      response: {\n",
              "        action: 'complete',\n",
              "      }\n",
              "    };\n",
              "  }\n",
              "\n",
              "  for (const file of files) {\n",
              "    const li = document.createElement('li');\n",
              "    li.append(span(file.name, {fontWeight: 'bold'}));\n",
              "    li.append(span(\n",
              "        `(${file.type || 'n/a'}) - ${file.size} bytes, ` +\n",
              "        `last modified: ${\n",
              "            file.lastModifiedDate ? file.lastModifiedDate.toLocaleDateString() :\n",
              "                                    'n/a'} - `));\n",
              "    const percent = span('0% done');\n",
              "    li.appendChild(percent);\n",
              "\n",
              "    outputElement.appendChild(li);\n",
              "\n",
              "    const fileDataPromise = new Promise((resolve) => {\n",
              "      const reader = new FileReader();\n",
              "      reader.onload = (e) => {\n",
              "        resolve(e.target.result);\n",
              "      };\n",
              "      reader.readAsArrayBuffer(file);\n",
              "    });\n",
              "    // Wait for the data to be ready.\n",
              "    let fileData = yield {\n",
              "      promise: fileDataPromise,\n",
              "      response: {\n",
              "        action: 'continue',\n",
              "      }\n",
              "    };\n",
              "\n",
              "    // Use a chunked sending to avoid message size limits. See b/62115660.\n",
              "    let position = 0;\n",
              "    do {\n",
              "      const length = Math.min(fileData.byteLength - position, MAX_PAYLOAD_SIZE);\n",
              "      const chunk = new Uint8Array(fileData, position, length);\n",
              "      position += length;\n",
              "\n",
              "      const base64 = btoa(String.fromCharCode.apply(null, chunk));\n",
              "      yield {\n",
              "        response: {\n",
              "          action: 'append',\n",
              "          file: file.name,\n",
              "          data: base64,\n",
              "        },\n",
              "      };\n",
              "\n",
              "      let percentDone = fileData.byteLength === 0 ?\n",
              "          100 :\n",
              "          Math.round((position / fileData.byteLength) * 100);\n",
              "      percent.textContent = `${percentDone}% done`;\n",
              "\n",
              "    } while (position < fileData.byteLength);\n",
              "  }\n",
              "\n",
              "  // All done.\n",
              "  yield {\n",
              "    response: {\n",
              "      action: 'complete',\n",
              "    }\n",
              "  };\n",
              "}\n",
              "\n",
              "scope.google = scope.google || {};\n",
              "scope.google.colab = scope.google.colab || {};\n",
              "scope.google.colab._files = {\n",
              "  _uploadFiles,\n",
              "  _uploadFilesContinue,\n",
              "};\n",
              "})(self);\n",
              "</script> "
            ]
          },
          "metadata": {}
        },
        {
          "output_type": "stream",
          "name": "stdout",
          "text": [
            "Saving housing.csv to housing (2).csv\n"
          ]
        }
      ]
    },
    {
      "cell_type": "code",
      "source": [
        "df=pd.read_csv(\"housing.csv\",header=None)\n",
        "df.head()"
      ],
      "metadata": {
        "colab": {
          "base_uri": "https://localhost:8080/",
          "height": 206
        },
        "id": "xjOtvwTbJeCg",
        "outputId": "79861c1e-1ed4-4f62-9bd5-ed3e781df442"
      },
      "id": "xjOtvwTbJeCg",
      "execution_count": null,
      "outputs": [
        {
          "output_type": "execute_result",
          "data": {
            "text/plain": [
              "        0     1     2   3      4      5     6       7   8    9     10      11  \\\n",
              "0  0.00632  18.0  2.31   0  0.538  6.575  65.2  4.0900   1  296  15.3  396.90   \n",
              "1  0.02731   0.0  7.07   0  0.469  6.421  78.9  4.9671   2  242  17.8  396.90   \n",
              "2  0.02729   0.0  7.07   0  0.469  7.185  61.1  4.9671   2  242  17.8  392.83   \n",
              "3  0.03237   0.0  2.18   0  0.458  6.998  45.8  6.0622   3  222  18.7  394.63   \n",
              "4  0.06905   0.0  2.18   0  0.458  7.147  54.2  6.0622   3  222  18.7  396.90   \n",
              "\n",
              "     12    13  \n",
              "0  4.98  24.0  \n",
              "1  9.14  21.6  \n",
              "2  4.03  34.7  \n",
              "3  2.94  33.4  \n",
              "4  5.33  36.2  "
            ],
            "text/html": [
              "\n",
              "  <div id=\"df-7ecc68ae-3b24-4be6-b8dc-28b942b400b2\">\n",
              "    <div class=\"colab-df-container\">\n",
              "      <div>\n",
              "<style scoped>\n",
              "    .dataframe tbody tr th:only-of-type {\n",
              "        vertical-align: middle;\n",
              "    }\n",
              "\n",
              "    .dataframe tbody tr th {\n",
              "        vertical-align: top;\n",
              "    }\n",
              "\n",
              "    .dataframe thead th {\n",
              "        text-align: right;\n",
              "    }\n",
              "</style>\n",
              "<table border=\"1\" class=\"dataframe\">\n",
              "  <thead>\n",
              "    <tr style=\"text-align: right;\">\n",
              "      <th></th>\n",
              "      <th>0</th>\n",
              "      <th>1</th>\n",
              "      <th>2</th>\n",
              "      <th>3</th>\n",
              "      <th>4</th>\n",
              "      <th>5</th>\n",
              "      <th>6</th>\n",
              "      <th>7</th>\n",
              "      <th>8</th>\n",
              "      <th>9</th>\n",
              "      <th>10</th>\n",
              "      <th>11</th>\n",
              "      <th>12</th>\n",
              "      <th>13</th>\n",
              "    </tr>\n",
              "  </thead>\n",
              "  <tbody>\n",
              "    <tr>\n",
              "      <th>0</th>\n",
              "      <td>0.00632</td>\n",
              "      <td>18.0</td>\n",
              "      <td>2.31</td>\n",
              "      <td>0</td>\n",
              "      <td>0.538</td>\n",
              "      <td>6.575</td>\n",
              "      <td>65.2</td>\n",
              "      <td>4.0900</td>\n",
              "      <td>1</td>\n",
              "      <td>296</td>\n",
              "      <td>15.3</td>\n",
              "      <td>396.90</td>\n",
              "      <td>4.98</td>\n",
              "      <td>24.0</td>\n",
              "    </tr>\n",
              "    <tr>\n",
              "      <th>1</th>\n",
              "      <td>0.02731</td>\n",
              "      <td>0.0</td>\n",
              "      <td>7.07</td>\n",
              "      <td>0</td>\n",
              "      <td>0.469</td>\n",
              "      <td>6.421</td>\n",
              "      <td>78.9</td>\n",
              "      <td>4.9671</td>\n",
              "      <td>2</td>\n",
              "      <td>242</td>\n",
              "      <td>17.8</td>\n",
              "      <td>396.90</td>\n",
              "      <td>9.14</td>\n",
              "      <td>21.6</td>\n",
              "    </tr>\n",
              "    <tr>\n",
              "      <th>2</th>\n",
              "      <td>0.02729</td>\n",
              "      <td>0.0</td>\n",
              "      <td>7.07</td>\n",
              "      <td>0</td>\n",
              "      <td>0.469</td>\n",
              "      <td>7.185</td>\n",
              "      <td>61.1</td>\n",
              "      <td>4.9671</td>\n",
              "      <td>2</td>\n",
              "      <td>242</td>\n",
              "      <td>17.8</td>\n",
              "      <td>392.83</td>\n",
              "      <td>4.03</td>\n",
              "      <td>34.7</td>\n",
              "    </tr>\n",
              "    <tr>\n",
              "      <th>3</th>\n",
              "      <td>0.03237</td>\n",
              "      <td>0.0</td>\n",
              "      <td>2.18</td>\n",
              "      <td>0</td>\n",
              "      <td>0.458</td>\n",
              "      <td>6.998</td>\n",
              "      <td>45.8</td>\n",
              "      <td>6.0622</td>\n",
              "      <td>3</td>\n",
              "      <td>222</td>\n",
              "      <td>18.7</td>\n",
              "      <td>394.63</td>\n",
              "      <td>2.94</td>\n",
              "      <td>33.4</td>\n",
              "    </tr>\n",
              "    <tr>\n",
              "      <th>4</th>\n",
              "      <td>0.06905</td>\n",
              "      <td>0.0</td>\n",
              "      <td>2.18</td>\n",
              "      <td>0</td>\n",
              "      <td>0.458</td>\n",
              "      <td>7.147</td>\n",
              "      <td>54.2</td>\n",
              "      <td>6.0622</td>\n",
              "      <td>3</td>\n",
              "      <td>222</td>\n",
              "      <td>18.7</td>\n",
              "      <td>396.90</td>\n",
              "      <td>5.33</td>\n",
              "      <td>36.2</td>\n",
              "    </tr>\n",
              "  </tbody>\n",
              "</table>\n",
              "</div>\n",
              "      <button class=\"colab-df-convert\" onclick=\"convertToInteractive('df-7ecc68ae-3b24-4be6-b8dc-28b942b400b2')\"\n",
              "              title=\"Convert this dataframe to an interactive table.\"\n",
              "              style=\"display:none;\">\n",
              "        \n",
              "  <svg xmlns=\"http://www.w3.org/2000/svg\" height=\"24px\"viewBox=\"0 0 24 24\"\n",
              "       width=\"24px\">\n",
              "    <path d=\"M0 0h24v24H0V0z\" fill=\"none\"/>\n",
              "    <path d=\"M18.56 5.44l.94 2.06.94-2.06 2.06-.94-2.06-.94-.94-2.06-.94 2.06-2.06.94zm-11 1L8.5 8.5l.94-2.06 2.06-.94-2.06-.94L8.5 2.5l-.94 2.06-2.06.94zm10 10l.94 2.06.94-2.06 2.06-.94-2.06-.94-.94-2.06-.94 2.06-2.06.94z\"/><path d=\"M17.41 7.96l-1.37-1.37c-.4-.4-.92-.59-1.43-.59-.52 0-1.04.2-1.43.59L10.3 9.45l-7.72 7.72c-.78.78-.78 2.05 0 2.83L4 21.41c.39.39.9.59 1.41.59.51 0 1.02-.2 1.41-.59l7.78-7.78 2.81-2.81c.8-.78.8-2.07 0-2.86zM5.41 20L4 18.59l7.72-7.72 1.47 1.35L5.41 20z\"/>\n",
              "  </svg>\n",
              "      </button>\n",
              "      \n",
              "  <style>\n",
              "    .colab-df-container {\n",
              "      display:flex;\n",
              "      flex-wrap:wrap;\n",
              "      gap: 12px;\n",
              "    }\n",
              "\n",
              "    .colab-df-convert {\n",
              "      background-color: #E8F0FE;\n",
              "      border: none;\n",
              "      border-radius: 50%;\n",
              "      cursor: pointer;\n",
              "      display: none;\n",
              "      fill: #1967D2;\n",
              "      height: 32px;\n",
              "      padding: 0 0 0 0;\n",
              "      width: 32px;\n",
              "    }\n",
              "\n",
              "    .colab-df-convert:hover {\n",
              "      background-color: #E2EBFA;\n",
              "      box-shadow: 0px 1px 2px rgba(60, 64, 67, 0.3), 0px 1px 3px 1px rgba(60, 64, 67, 0.15);\n",
              "      fill: #174EA6;\n",
              "    }\n",
              "\n",
              "    [theme=dark] .colab-df-convert {\n",
              "      background-color: #3B4455;\n",
              "      fill: #D2E3FC;\n",
              "    }\n",
              "\n",
              "    [theme=dark] .colab-df-convert:hover {\n",
              "      background-color: #434B5C;\n",
              "      box-shadow: 0px 1px 3px 1px rgba(0, 0, 0, 0.15);\n",
              "      filter: drop-shadow(0px 1px 2px rgba(0, 0, 0, 0.3));\n",
              "      fill: #FFFFFF;\n",
              "    }\n",
              "  </style>\n",
              "\n",
              "      <script>\n",
              "        const buttonEl =\n",
              "          document.querySelector('#df-7ecc68ae-3b24-4be6-b8dc-28b942b400b2 button.colab-df-convert');\n",
              "        buttonEl.style.display =\n",
              "          google.colab.kernel.accessAllowed ? 'block' : 'none';\n",
              "\n",
              "        async function convertToInteractive(key) {\n",
              "          const element = document.querySelector('#df-7ecc68ae-3b24-4be6-b8dc-28b942b400b2');\n",
              "          const dataTable =\n",
              "            await google.colab.kernel.invokeFunction('convertToInteractive',\n",
              "                                                     [key], {});\n",
              "          if (!dataTable) return;\n",
              "\n",
              "          const docLinkHtml = 'Like what you see? Visit the ' +\n",
              "            '<a target=\"_blank\" href=https://colab.research.google.com/notebooks/data_table.ipynb>data table notebook</a>'\n",
              "            + ' to learn more about interactive tables.';\n",
              "          element.innerHTML = '';\n",
              "          dataTable['output_type'] = 'display_data';\n",
              "          await google.colab.output.renderOutput(dataTable, element);\n",
              "          const docLink = document.createElement('div');\n",
              "          docLink.innerHTML = docLinkHtml;\n",
              "          element.appendChild(docLink);\n",
              "        }\n",
              "      </script>\n",
              "    </div>\n",
              "  </div>\n",
              "  "
            ]
          },
          "metadata": {},
          "execution_count": 113
        }
      ]
    },
    {
      "cell_type": "markdown",
      "source": [
        "#### Closed Form Solution Without Regularization"
      ],
      "metadata": {
        "id": "UP_BFpDwGuYQ"
      },
      "id": "UP_BFpDwGuYQ"
    },
    {
      "cell_type": "markdown",
      "source": [],
      "metadata": {
        "id": "b-qOUHELJFv6"
      },
      "id": "b-qOUHELJFv6"
    },
    {
      "cell_type": "code",
      "source": [
        "regression = LinearRegression(df.values[:,0:-1],df.values[:,-1],\n",
        "                              learningRate=0.0004,tolerance=0.005, \n",
        "                              maxIteration=50000,gd=False,reg=False,sgd=False)\n",
        "regression.fit()"
      ],
      "metadata": {
        "id": "xorIEKu7ueOb",
        "colab": {
          "base_uri": "https://localhost:8080/"
        },
        "outputId": "7112b5e5-f2e3-482a-d3e3-6e1ac9b7c926"
      },
      "id": "xorIEKu7ueOb",
      "execution_count": null,
      "outputs": [
        {
          "output_type": "stream",
          "name": "stdout",
          "text": [
            "Data is Full Rank\n",
            "Data is not low Rank\n",
            "Solving using closed form solution\n",
            "\n",
            "\n",
            "Weights: [22.74548023 -1.01189299  1.05028731  0.07922238  0.61896311 -1.87367112\n",
            "  2.70526765 -0.27955798 -3.09763515  2.09690865 -1.88608488 -2.26109811\n",
            "  0.58264435 -3.44050512]\n",
            "Errors in train dataset:\n",
            "\n",
            "\n",
            "RMSE: 4.467466666510133\n",
            "SSE: 7065.2234793982225\n",
            "\n",
            "\n",
            "Errors in test dataset:\n",
            "RMSE: 5.214973224911791\n",
            "SSE: 4133.783751955127\n"
          ]
        }
      ]
    },
    {
      "cell_type": "markdown",
      "source": [
        "Closed Form Solution With Regularization"
      ],
      "metadata": {
        "id": "8xP53-MyGwN9"
      },
      "id": "8xP53-MyGwN9"
    },
    {
      "cell_type": "code",
      "source": [
        "regression = LinearRegression(df.values[:,0:-1],df.values[:,-1],\n",
        "                              learningRate=0.0004,tolerance=0.005, \n",
        "                              maxIteration=50000,gd=False,reg=True,sgd=False)\n",
        "regression.fit()"
      ],
      "metadata": {
        "colab": {
          "base_uri": "https://localhost:8080/"
        },
        "id": "gZe3nj1cDZuz",
        "outputId": "9b919094-e055-40c7-f9f1-dbcbc9fcf724"
      },
      "id": "gZe3nj1cDZuz",
      "execution_count": null,
      "outputs": [
        {
          "output_type": "stream",
          "name": "stdout",
          "text": [
            "Data is Full Rank\n",
            "Data is not low Rank\n",
            "Solving using closed form solution\n",
            "\n",
            "\n",
            "Weights: [22.74226804 -1.01138347  1.04931903  0.07768688  0.61921281 -1.87170589\n",
            "  2.70581139 -0.27986718 -3.09567209  2.09247089 -1.88192488 -2.26063174\n",
            "  0.58265739 -3.4396972 ]\n",
            "Errors in train dataset:\n",
            "\n",
            "\n",
            "RMSE: 4.4674683055768485\n",
            "SSE: 7065.228663712122\n",
            "\n",
            "\n",
            "Errors in test dataset:\n",
            "RMSE: 5.215373536249813\n",
            "SSE: 4134.418410637462\n"
          ]
        }
      ]
    },
    {
      "cell_type": "markdown",
      "source": [
        "Gradient Descent Solution without Regularization"
      ],
      "metadata": {
        "id": "_lSSICwBDvmr"
      },
      "id": "_lSSICwBDvmr"
    },
    {
      "cell_type": "code",
      "source": [
        "regression = LinearRegression(df.values[:,0:-1],df.values[:,-1],\n",
        "                              learningRate=0.0004,tolerance=0.005, \n",
        "                              maxIteration=50000,gd=True,reg=False,sgd=False)\n",
        "regression.fit()"
      ],
      "metadata": {
        "colab": {
          "base_uri": "https://localhost:8080/",
          "height": 636
        },
        "id": "bSi8RpoyD1xX",
        "outputId": "e7978e3f-52ab-471b-89f0-b2d6d3f3a476"
      },
      "id": "bSi8RpoyD1xX",
      "execution_count": null,
      "outputs": [
        {
          "output_type": "stream",
          "name": "stdout",
          "text": [
            "Data is Full Rank\n",
            "Data is not low Rank\n",
            "Solving using gradient descent\n"
          ]
        },
        {
          "output_type": "stream",
          "name": "stderr",
          "text": [
            "  1%|          | 363/50000 [00:00<00:01, 28063.56it/s]"
          ]
        },
        {
          "output_type": "stream",
          "name": "stdout",
          "text": [
            "The model stopped as error is too low and meets the stopping criteria\n",
            "\n",
            "\n",
            "Weights: [22.74548023 -1.00695704  1.04172285  0.05071163  0.62307035 -1.86558657\n",
            "  2.71080706 -0.28572203 -3.09874371  2.02599784 -1.80638574 -2.25793522\n",
            "  0.58123396 -3.4382458 ]\n",
            "Errors in train dataset:\n",
            "\n",
            "\n",
            "RMSE: 4.467554276040867\n",
            "SSE: 7065.500588117349\n",
            "\n",
            "\n",
            "Errors in test dataset:\n",
            "RMSE: 5.217879585785907\n",
            "SSE: 4138.392640507719\n"
          ]
        },
        {
          "output_type": "stream",
          "name": "stderr",
          "text": [
            "\n"
          ]
        },
        {
          "output_type": "display_data",
          "data": {
            "text/plain": [
              "<Figure size 432x288 with 1 Axes>"
            ],
            "image/png": "[encoded data removed]"
          },
          "metadata": {
            "needs_background": "light"
          }
        }
      ]
    },
    {
      "cell_type": "markdown",
      "source": [
        "Gradient Descent Solution with Regularization"
      ],
      "metadata": {
        "id": "b4iha_4EG_L2"
      },
      "id": "b4iha_4EG_L2"
    },
    {
      "cell_type": "code",
      "source": [
        "regression = LinearRegression(df.values[:,0:-1],df.values[:,-1],\n",
        "                              learningRate=0.0004,tolerance=0.005, \n",
        "                              maxIteration=50000,gd=True,reg=True,sgd=False)\n",
        "regression.fit()"
      ],
      "metadata": {
        "colab": {
          "base_uri": "https://localhost:8080/",
          "height": 636
        },
        "id": "2_Ij0AKwEAy_",
        "outputId": "d9d4f52b-ed90-478d-be06-dc22047fe29e"
      },
      "id": "2_Ij0AKwEAy_",
      "execution_count": null,
      "outputs": [
        {
          "output_type": "stream",
          "name": "stdout",
          "text": [
            "Data is Full Rank\n",
            "Data is not low Rank\n",
            "Solving using gradient descent\n"
          ]
        },
        {
          "output_type": "stream",
          "name": "stderr",
          "text": [
            "  1%|          | 366/50000 [00:00<00:02, 23325.77it/s]"
          ]
        },
        {
          "output_type": "stream",
          "name": "stdout",
          "text": [
            "The model stopped as error is too low and meets the stopping criteria\n",
            "\n",
            "\n",
            "Weights: [22.74226804 -1.00662561  1.0410636   0.05019691  0.62317274 -1.86392453\n",
            "  2.71114901 -0.28580742 -3.09675029  2.02410088 -1.80507507 -2.25758458\n",
            "  0.58129661 -3.43752063]\n",
            "Errors in train dataset:\n",
            "\n",
            "\n",
            "RMSE: 4.467559590681943\n",
            "SSE: 7065.517398488152\n",
            "\n",
            "\n",
            "Errors in test dataset:\n",
            "RMSE: 5.218178539229494\n",
            "SSE: 4138.866864625839\n"
          ]
        },
        {
          "output_type": "stream",
          "name": "stderr",
          "text": [
            "\n"
          ]
        },
        {
          "output_type": "display_data",
          "data": {
            "text/plain": [
              "<Figure size 432x288 with 1 Axes>"
            ],
            "image/png": "[encoded data removed]"
          },
          "metadata": {
            "needs_background": "light"
          }
        }
      ]
    },
    {
      "cell_type": "markdown",
      "source": [
        "Stochastic Gradient Descent without Regularization"
      ],
      "metadata": {
        "id": "7zTOF5lFHCVM"
      },
      "id": "7zTOF5lFHCVM"
    },
    {
      "cell_type": "code",
      "source": [
        "regression = LinearRegression(df.values[:,0:-1],df.values[:,-1],\n",
        "                              learningRate=0.0004,tolerance=0.005, \n",
        "                              maxIteration=50000,gd=False,reg=False,sgd=True)\n",
        "regression.fit()"
      ],
      "metadata": {
        "colab": {
          "base_uri": "https://localhost:8080/",
          "height": 647
        },
        "id": "QsFbBeImH6NE",
        "outputId": "90702475-a40e-4441-8b04-2eb85b63db46"
      },
      "id": "QsFbBeImH6NE",
      "execution_count": null,
      "outputs": [
        {
          "output_type": "stream",
          "name": "stdout",
          "text": [
            "Data is Full Rank\n",
            "Data is not low Rank\n",
            "Solving using Stochastic Gradient Descent\n"
          ]
        },
        {
          "output_type": "stream",
          "name": "stderr",
          "text": [
            "  0%|          | 2/50000 [00:00<10:06, 82.45it/s]"
          ]
        },
        {
          "output_type": "stream",
          "name": "stdout",
          "text": [
            "The model stopped -no further improvement\n",
            "\n",
            "\n",
            "Weights: [22.74548023 -1.0118834   1.05027065  0.07916664  0.61897113 -1.87365598\n",
            "  2.70527832 -0.27956986 -3.09763772  2.09677005 -1.8859288  -2.26109205\n",
            "  0.58264155 -3.4405008 ]\n",
            "Errors in train dataset:\n",
            "\n",
            "\n",
            "RMSE: 4.467466666845255\n",
            "SSE: 7065.223480458204\n",
            "\n",
            "\n",
            "Errors in test dataset:\n",
            "RMSE: 5.214978733278881\n",
            "SSE: 4133.7924846597525\n"
          ]
        },
        {
          "output_type": "stream",
          "name": "stderr",
          "text": [
            "\n"
          ]
        },
        {
          "output_type": "display_data",
          "data": {
            "text/plain": [
              "<Figure size 432x288 with 1 Axes>"
            ],
            "image/png": "[encoded data removed]"
          },
          "metadata": {
            "needs_background": "light"
          }
        }
      ]
    },
    {
      "cell_type": "markdown",
      "source": [
        "Stochastic Gradient Descent With Regularization"
      ],
      "metadata": {
        "id": "AoGGNnzVHFTx"
      },
      "id": "AoGGNnzVHFTx"
    },
    {
      "cell_type": "code",
      "source": [
        "regression = LinearRegression(df.values[:,0:-1],df.values[:,-1],\n",
        "                              learningRate=0.0004,tolerance=0.005, \n",
        "                              maxIteration=50000,gd=False,reg=True,sgd=True)\n",
        "regression.fit()"
      ],
      "metadata": {
        "colab": {
          "base_uri": "https://localhost:8080/",
          "height": 647
        },
        "id": "DZLnRdQkIIQJ",
        "outputId": "4b6e6029-308f-445c-b5f6-8351e3e708db"
      },
      "id": "DZLnRdQkIIQJ",
      "execution_count": null,
      "outputs": [
        {
          "output_type": "stream",
          "name": "stdout",
          "text": [
            "Data is Full Rank\n",
            "Data is not low Rank\n",
            "Solving using Stochastic Gradient Descent\n"
          ]
        },
        {
          "output_type": "stream",
          "name": "stderr",
          "text": [
            "  0%|          | 2/50000 [00:00<13:36, 61.26it/s]"
          ]
        },
        {
          "output_type": "stream",
          "name": "stdout",
          "text": [
            "The model stopped -no further improvement\n",
            "\n",
            "\n",
            "Weights: [22.74226804 -1.0113741   1.04930276  0.07763244  0.61922064 -1.8716911\n",
            "  2.70582181 -0.27987878 -3.0956746   2.09233554 -1.88177246 -2.26062583\n",
            "  0.58265465 -3.43969298]\n",
            "Errors in train dataset:\n",
            "\n",
            "\n",
            "RMSE: 4.46746832530703\n",
            "SSE: 7065.228726118047\n",
            "\n",
            "\n",
            "Errors in test dataset:\n",
            "RMSE: 5.215378927279644\n",
            "SSE: 4134.42695797711\n"
          ]
        },
        {
          "output_type": "stream",
          "name": "stderr",
          "text": [
            "\n"
          ]
        },
        {
          "output_type": "display_data",
          "data": {
            "text/plain": [
              "<Figure size 432x288 with 1 Axes>"
            ],
            "image/png": "[encoded data removed]"
          },
          "metadata": {
            "needs_background": "light"
          }
        }
      ]
    },
    {
      "cell_type": "markdown",
      "source": [
        "## YACHT DATASET"
      ],
      "metadata": {
        "id": "mjY4oJfMKNLU"
      },
      "id": "mjY4oJfMKNLU"
    },
    {
      "cell_type": "code",
      "source": [
        "df1 = files.upload()"
      ],
      "metadata": {
        "colab": {
          "base_uri": "https://localhost:8080/",
          "height": 74
        },
        "outputId": "af4a08d2-e93f-45b8-a0c2-586646b8aea0",
        "id": "QI7G2_6GKNLc"
      },
      "execution_count": null,
      "outputs": [
        {
          "output_type": "display_data",
          "data": {
            "text/plain": [
              "<IPython.core.display.HTML object>"
            ],
            "text/html": [
              "\n",
              "     <input type=\"file\" id=\"files-241dcd65-cec0-4e89-abad-47735b62df71\" name=\"files[]\" multiple disabled\n",
              "        style=\"border:none\" />\n",
              "     <output id=\"result-241dcd65-cec0-4e89-abad-47735b62df71\">\n",
              "      Upload widget is only available when the cell has been executed in the\n",
              "      current browser session. Please rerun this cell to enable.\n",
              "      </output>\n",
              "      <script>// Copyright 2017 Google LLC\n",
              "//\n",
              "// Licensed under the Apache License, Version 2.0 (the \"License\");\n",
              "// you may not use this file except in compliance with the License.\n",
              "// You may obtain a copy of the License at\n",
              "//\n",
              "//      http://www.apache.org/licenses/LICENSE-2.0\n",
              "//\n",
              "// Unless required by applicable law or agreed to in writing, software\n",
              "// distributed under the License is distributed on an \"AS IS\" BASIS,\n",
              "// WITHOUT WARRANTIES OR CONDITIONS OF ANY KIND, either express or implied.\n",
              "// See the License for the specific language governing permissions and\n",
              "// limitations under the License.\n",
              "\n",
              "/**\n",
              " * @fileoverview Helpers for google.colab Python module.\n",
              " */\n",
              "(function(scope) {\n",
              "function span(text, styleAttributes = {}) {\n",
              "  const element = document.createElement('span');\n",
              "  element.textContent = text;\n",
              "  for (const key of Object.keys(styleAttributes)) {\n",
              "    element.style[key] = styleAttributes[key];\n",
              "  }\n",
              "  return element;\n",
              "}\n",
              "\n",
              "// Max number of bytes which will be uploaded at a time.\n",
              "const MAX_PAYLOAD_SIZE = 100 * 1024;\n",
              "\n",
              "function _uploadFiles(inputId, outputId) {\n",
              "  const steps = uploadFilesStep(inputId, outputId);\n",
              "  const outputElement = document.getElementById(outputId);\n",
              "  // Cache steps on the outputElement to make it available for the next call\n",
              "  // to uploadFilesContinue from Python.\n",
              "  outputElement.steps = steps;\n",
              "\n",
              "  return _uploadFilesContinue(outputId);\n",
              "}\n",
              "\n",
              "// This is roughly an async generator (not supported in the browser yet),\n",
              "// where there are multiple asynchronous steps and the Python side is going\n",
              "// to poll for completion of each step.\n",
              "// This uses a Promise to block the python side on completion of each step,\n",
              "// then passes the result of the previous step as the input to the next step.\n",
              "function _uploadFilesContinue(outputId) {\n",
              "  const outputElement = document.getElementById(outputId);\n",
              "  const steps = outputElement.steps;\n",
              "\n",
              "  const next = steps.next(outputElement.lastPromiseValue);\n",
              "  return Promise.resolve(next.value.promise).then((value) => {\n",
              "    // Cache the last promise value to make it available to the next\n",
              "    // step of the generator.\n",
              "    outputElement.lastPromiseValue = value;\n",
              "    return next.value.response;\n",
              "  });\n",
              "}\n",
              "\n",
              "/**\n",
              " * Generator function which is called between each async step of the upload\n",
              " * process.\n",
              " * @param {string} inputId Element ID of the input file picker element.\n",
              " * @param {string} outputId Element ID of the output display.\n",
              " * @return {!Iterable<!Object>} Iterable of next steps.\n",
              " */\n",
              "function* uploadFilesStep(inputId, outputId) {\n",
              "  const inputElement = document.getElementById(inputId);\n",
              "  inputElement.disabled = false;\n",
              "\n",
              "  const outputElement = document.getElementById(outputId);\n",
              "  outputElement.innerHTML = '';\n",
              "\n",
              "  const pickedPromise = new Promise((resolve) => {\n",
              "    inputElement.addEventListener('change', (e) => {\n",
              "      resolve(e.target.files);\n",
              "    });\n",
              "  });\n",
              "\n",
              "  const cancel = document.createElement('button');\n",
              "  inputElement.parentElement.appendChild(cancel);\n",
              "  cancel.textContent = 'Cancel upload';\n",
              "  const cancelPromise = new Promise((resolve) => {\n",
              "    cancel.onclick = () => {\n",
              "      resolve(null);\n",
              "    };\n",
              "  });\n",
              "\n",
              "  // Wait for the user to pick the files.\n",
              "  const files = yield {\n",
              "    promise: Promise.race([pickedPromise, cancelPromise]),\n",
              "    response: {\n",
              "      action: 'starting',\n",
              "    }\n",
              "  };\n",
              "\n",
              "  cancel.remove();\n",
              "\n",
              "  // Disable the input element since further picks are not allowed.\n",
              "  inputElement.disabled = true;\n",
              "\n",
              "  if (!files) {\n",
              "    return {\n",
              "      response: {\n",
              "        action: 'complete',\n",
              "      }\n",
              "    };\n",
              "  }\n",
              "\n",
              "  for (const file of files) {\n",
              "    const li = document.createElement('li');\n",
              "    li.append(span(file.name, {fontWeight: 'bold'}));\n",
              "    li.append(span(\n",
              "        `(${file.type || 'n/a'}) - ${file.size} bytes, ` +\n",
              "        `last modified: ${\n",
              "            file.lastModifiedDate ? file.lastModifiedDate.toLocaleDateString() :\n",
              "                                    'n/a'} - `));\n",
              "    const percent = span('0% done');\n",
              "    li.appendChild(percent);\n",
              "\n",
              "    outputElement.appendChild(li);\n",
              "\n",
              "    const fileDataPromise = new Promise((resolve) => {\n",
              "      const reader = new FileReader();\n",
              "      reader.onload = (e) => {\n",
              "        resolve(e.target.result);\n",
              "      };\n",
              "      reader.readAsArrayBuffer(file);\n",
              "    });\n",
              "    // Wait for the data to be ready.\n",
              "    let fileData = yield {\n",
              "      promise: fileDataPromise,\n",
              "      response: {\n",
              "        action: 'continue',\n",
              "      }\n",
              "    };\n",
              "\n",
              "    // Use a chunked sending to avoid message size limits. See b/62115660.\n",
              "    let position = 0;\n",
              "    do {\n",
              "      const length = Math.min(fileData.byteLength - position, MAX_PAYLOAD_SIZE);\n",
              "      const chunk = new Uint8Array(fileData, position, length);\n",
              "      position += length;\n",
              "\n",
              "      const base64 = btoa(String.fromCharCode.apply(null, chunk));\n",
              "      yield {\n",
              "        response: {\n",
              "          action: 'append',\n",
              "          file: file.name,\n",
              "          data: base64,\n",
              "        },\n",
              "      };\n",
              "\n",
              "      let percentDone = fileData.byteLength === 0 ?\n",
              "          100 :\n",
              "          Math.round((position / fileData.byteLength) * 100);\n",
              "      percent.textContent = `${percentDone}% done`;\n",
              "\n",
              "    } while (position < fileData.byteLength);\n",
              "  }\n",
              "\n",
              "  // All done.\n",
              "  yield {\n",
              "    response: {\n",
              "      action: 'complete',\n",
              "    }\n",
              "  };\n",
              "}\n",
              "\n",
              "scope.google = scope.google || {};\n",
              "scope.google.colab = scope.google.colab || {};\n",
              "scope.google.colab._files = {\n",
              "  _uploadFiles,\n",
              "  _uploadFilesContinue,\n",
              "};\n",
              "})(self);\n",
              "</script> "
            ]
          },
          "metadata": {}
        },
        {
          "output_type": "stream",
          "name": "stdout",
          "text": [
            "Saving yachtData.csv to yachtData (1).csv\n"
          ]
        }
      ],
      "id": "QI7G2_6GKNLc"
    },
    {
      "cell_type": "code",
      "source": [
        "df=pd.read_csv(\"yachtData.csv\",header=None)\n",
        "df.head()"
      ],
      "metadata": {
        "colab": {
          "base_uri": "https://localhost:8080/",
          "height": 206
        },
        "outputId": "dffcdb03-f256-470a-9853-0be13b6a7468",
        "id": "Z0rCpeQOKNLd"
      },
      "execution_count": null,
      "outputs": [
        {
          "output_type": "execute_result",
          "data": {
            "text/plain": [
              "     0      1     2     3     4      5     6\n",
              "0 -2.3  0.568  4.78  3.99  3.17  0.125  0.11\n",
              "1 -2.3  0.568  4.78  3.99  3.17  0.150  0.27\n",
              "2 -2.3  0.568  4.78  3.99  3.17  0.175  0.47\n",
              "3 -2.3  0.568  4.78  3.99  3.17  0.200  0.78\n",
              "4 -2.3  0.568  4.78  3.99  3.17  0.225  1.18"
            ],
            "text/html": [
              "\n",
              "  <div id=\"df-491795a9-e0a3-4504-99d0-aa8f6f37739d\">\n",
              "    <div class=\"colab-df-container\">\n",
              "      <div>\n",
              "<style scoped>\n",
              "    .dataframe tbody tr th:only-of-type {\n",
              "        vertical-align: middle;\n",
              "    }\n",
              "\n",
              "    .dataframe tbody tr th {\n",
              "        vertical-align: top;\n",
              "    }\n",
              "\n",
              "    .dataframe thead th {\n",
              "        text-align: right;\n",
              "    }\n",
              "</style>\n",
              "<table border=\"1\" class=\"dataframe\">\n",
              "  <thead>\n",
              "    <tr style=\"text-align: right;\">\n",
              "      <th></th>\n",
              "      <th>0</th>\n",
              "      <th>1</th>\n",
              "      <th>2</th>\n",
              "      <th>3</th>\n",
              "      <th>4</th>\n",
              "      <th>5</th>\n",
              "      <th>6</th>\n",
              "    </tr>\n",
              "  </thead>\n",
              "  <tbody>\n",
              "    <tr>\n",
              "      <th>0</th>\n",
              "      <td>-2.3</td>\n",
              "      <td>0.568</td>\n",
              "      <td>4.78</td>\n",
              "      <td>3.99</td>\n",
              "      <td>3.17</td>\n",
              "      <td>0.125</td>\n",
              "      <td>0.11</td>\n",
              "    </tr>\n",
              "    <tr>\n",
              "      <th>1</th>\n",
              "      <td>-2.3</td>\n",
              "      <td>0.568</td>\n",
              "      <td>4.78</td>\n",
              "      <td>3.99</td>\n",
              "      <td>3.17</td>\n",
              "      <td>0.150</td>\n",
              "      <td>0.27</td>\n",
              "    </tr>\n",
              "    <tr>\n",
              "      <th>2</th>\n",
              "      <td>-2.3</td>\n",
              "      <td>0.568</td>\n",
              "      <td>4.78</td>\n",
              "      <td>3.99</td>\n",
              "      <td>3.17</td>\n",
              "      <td>0.175</td>\n",
              "      <td>0.47</td>\n",
              "    </tr>\n",
              "    <tr>\n",
              "      <th>3</th>\n",
              "      <td>-2.3</td>\n",
              "      <td>0.568</td>\n",
              "      <td>4.78</td>\n",
              "      <td>3.99</td>\n",
              "      <td>3.17</td>\n",
              "      <td>0.200</td>\n",
              "      <td>0.78</td>\n",
              "    </tr>\n",
              "    <tr>\n",
              "      <th>4</th>\n",
              "      <td>-2.3</td>\n",
              "      <td>0.568</td>\n",
              "      <td>4.78</td>\n",
              "      <td>3.99</td>\n",
              "      <td>3.17</td>\n",
              "      <td>0.225</td>\n",
              "      <td>1.18</td>\n",
              "    </tr>\n",
              "  </tbody>\n",
              "</table>\n",
              "</div>\n",
              "      <button class=\"colab-df-convert\" onclick=\"convertToInteractive('df-491795a9-e0a3-4504-99d0-aa8f6f37739d')\"\n",
              "              title=\"Convert this dataframe to an interactive table.\"\n",
              "              style=\"display:none;\">\n",
              "        \n",
              "  <svg xmlns=\"http://www.w3.org/2000/svg\" height=\"24px\"viewBox=\"0 0 24 24\"\n",
              "       width=\"24px\">\n",
              "    <path d=\"M0 0h24v24H0V0z\" fill=\"none\"/>\n",
              "    <path d=\"M18.56 5.44l.94 2.06.94-2.06 2.06-.94-2.06-.94-.94-2.06-.94 2.06-2.06.94zm-11 1L8.5 8.5l.94-2.06 2.06-.94-2.06-.94L8.5 2.5l-.94 2.06-2.06.94zm10 10l.94 2.06.94-2.06 2.06-.94-2.06-.94-.94-2.06-.94 2.06-2.06.94z\"/><path d=\"M17.41 7.96l-1.37-1.37c-.4-.4-.92-.59-1.43-.59-.52 0-1.04.2-1.43.59L10.3 9.45l-7.72 7.72c-.78.78-.78 2.05 0 2.83L4 21.41c.39.39.9.59 1.41.59.51 0 1.02-.2 1.41-.59l7.78-7.78 2.81-2.81c.8-.78.8-2.07 0-2.86zM5.41 20L4 18.59l7.72-7.72 1.47 1.35L5.41 20z\"/>\n",
              "  </svg>\n",
              "      </button>\n",
              "      \n",
              "  <style>\n",
              "    .colab-df-container {\n",
              "      display:flex;\n",
              "      flex-wrap:wrap;\n",
              "      gap: 12px;\n",
              "    }\n",
              "\n",
              "    .colab-df-convert {\n",
              "      background-color: #E8F0FE;\n",
              "      border: none;\n",
              "      border-radius: 50%;\n",
              "      cursor: pointer;\n",
              "      display: none;\n",
              "      fill: #1967D2;\n",
              "      height: 32px;\n",
              "      padding: 0 0 0 0;\n",
              "      width: 32px;\n",
              "    }\n",
              "\n",
              "    .colab-df-convert:hover {\n",
              "      background-color: #E2EBFA;\n",
              "      box-shadow: 0px 1px 2px rgba(60, 64, 67, 0.3), 0px 1px 3px 1px rgba(60, 64, 67, 0.15);\n",
              "      fill: #174EA6;\n",
              "    }\n",
              "\n",
              "    [theme=dark] .colab-df-convert {\n",
              "      background-color: #3B4455;\n",
              "      fill: #D2E3FC;\n",
              "    }\n",
              "\n",
              "    [theme=dark] .colab-df-convert:hover {\n",
              "      background-color: #434B5C;\n",
              "      box-shadow: 0px 1px 3px 1px rgba(0, 0, 0, 0.15);\n",
              "      filter: drop-shadow(0px 1px 2px rgba(0, 0, 0, 0.3));\n",
              "      fill: #FFFFFF;\n",
              "    }\n",
              "  </style>\n",
              "\n",
              "      <script>\n",
              "        const buttonEl =\n",
              "          document.querySelector('#df-491795a9-e0a3-4504-99d0-aa8f6f37739d button.colab-df-convert');\n",
              "        buttonEl.style.display =\n",
              "          google.colab.kernel.accessAllowed ? 'block' : 'none';\n",
              "\n",
              "        async function convertToInteractive(key) {\n",
              "          const element = document.querySelector('#df-491795a9-e0a3-4504-99d0-aa8f6f37739d');\n",
              "          const dataTable =\n",
              "            await google.colab.kernel.invokeFunction('convertToInteractive',\n",
              "                                                     [key], {});\n",
              "          if (!dataTable) return;\n",
              "\n",
              "          const docLinkHtml = 'Like what you see? Visit the ' +\n",
              "            '<a target=\"_blank\" href=https://colab.research.google.com/notebooks/data_table.ipynb>data table notebook</a>'\n",
              "            + ' to learn more about interactive tables.';\n",
              "          element.innerHTML = '';\n",
              "          dataTable['output_type'] = 'display_data';\n",
              "          await google.colab.output.renderOutput(dataTable, element);\n",
              "          const docLink = document.createElement('div');\n",
              "          docLink.innerHTML = docLinkHtml;\n",
              "          element.appendChild(docLink);\n",
              "        }\n",
              "      </script>\n",
              "    </div>\n",
              "  </div>\n",
              "  "
            ]
          },
          "metadata": {},
          "execution_count": 120
        }
      ],
      "id": "Z0rCpeQOKNLd"
    },
    {
      "cell_type": "markdown",
      "source": [
        "#### Closed Form Solution Without Regularization"
      ],
      "metadata": {
        "id": "zF75qqdvKNLd"
      },
      "id": "zF75qqdvKNLd"
    },
    {
      "cell_type": "markdown",
      "source": [],
      "metadata": {
        "id": "92tBCYAaKNLd"
      },
      "id": "92tBCYAaKNLd"
    },
    {
      "cell_type": "code",
      "source": [
        "regression = LinearRegression(df.values[:,0:-1],df.values[:,-1],\n",
        "                              learningRate=0.001,tolerance=0.001, \n",
        "                              maxIteration=50000,gd=False,reg=False,sgd=False)\n",
        "regression.fit()"
      ],
      "metadata": {
        "colab": {
          "base_uri": "https://localhost:8080/"
        },
        "outputId": "f10a0326-513b-4d2c-bcb5-66f655ffbfea",
        "id": "olfKauKFKNLe"
      },
      "execution_count": null,
      "outputs": [
        {
          "output_type": "stream",
          "name": "stdout",
          "text": [
            "Data is Full Rank\n",
            "Data is not low Rank\n",
            "Solving using closed form solution\n",
            "\n",
            "\n",
            "Weights: [11.23939535  0.81790302  0.20369276  2.97602416 -2.75890138 -3.83325201\n",
            " 12.9328097 ]\n",
            "Errors in train dataset:\n",
            "\n",
            "\n",
            "RMSE: 9.012054802825176\n",
            "SSE: 17461.68333036173\n",
            "\n",
            "\n",
            "Errors in test dataset:\n",
            "RMSE: 8.80194763079057\n",
            "SSE: 7205.108234851716\n"
          ]
        }
      ],
      "id": "olfKauKFKNLe"
    },
    {
      "cell_type": "markdown",
      "source": [
        "Closed Form Solution With Regularization"
      ],
      "metadata": {
        "id": "8nBLhBt8KNLe"
      },
      "id": "8nBLhBt8KNLe"
    },
    {
      "cell_type": "code",
      "source": [
        "regression = LinearRegression(df.values[:,0:-1],df.values[:,-1],\n",
        "                              learningRate=0.001,tolerance=0.001, \n",
        "                              maxIteration=50000,gd=False,reg=True,sgd=False)\n",
        "regression.fit()"
      ],
      "metadata": {
        "colab": {
          "base_uri": "https://localhost:8080/"
        },
        "outputId": "5f24709e-6c41-4c50-aee6-4de9cc09604b",
        "id": "_bcMNSCDKNLe"
      },
      "execution_count": null,
      "outputs": [
        {
          "output_type": "stream",
          "name": "stdout",
          "text": [
            "Data is Full Rank\n",
            "Data is not low Rank\n",
            "Solving using closed form solution\n",
            "\n",
            "\n",
            "Weights: [11.23678214  0.81680196  0.17633658  2.86658621 -2.66966448 -3.72735065\n",
            " 12.92972981]\n",
            "Errors in train dataset:\n",
            "\n",
            "\n",
            "RMSE: 9.012067983955912\n",
            "SSE: 17461.734409700286\n",
            "\n",
            "\n",
            "Errors in test dataset:\n",
            "RMSE: 8.798801622331327\n",
            "SSE: 7199.958628990056\n"
          ]
        }
      ],
      "id": "_bcMNSCDKNLe"
    },
    {
      "cell_type": "markdown",
      "source": [
        "Gradient Descent Solution without Regularization"
      ],
      "metadata": {
        "id": "GeEAyP7fKNLe"
      },
      "id": "GeEAyP7fKNLe"
    },
    {
      "cell_type": "code",
      "source": [
        "regression = LinearRegression(df.values[:,0:-1],df.values[:,-1],\n",
        "                              learningRate=0.001,tolerance=0.001, \n",
        "                              maxIteration=50000,gd=True,reg=False,sgd=False)\n",
        "regression.fit()"
      ],
      "metadata": {
        "colab": {
          "base_uri": "https://localhost:8080/",
          "height": 618
        },
        "outputId": "8e2518f6-43b4-4877-8971-17b2d2491420",
        "id": "euvN8n-XKNLe"
      },
      "execution_count": null,
      "outputs": [
        {
          "output_type": "stream",
          "name": "stdout",
          "text": [
            "Data is Full Rank\n",
            "Data is not low Rank\n",
            "Solving using gradient descent\n"
          ]
        },
        {
          "output_type": "stream",
          "name": "stderr",
          "text": [
            "  3%|▎         | 1643/50000 [00:00<00:01, 46397.86it/s]"
          ]
        },
        {
          "output_type": "stream",
          "name": "stdout",
          "text": [
            "The model stopped as error is too low and meets the stopping criteria\n",
            "\n",
            "\n",
            "Weights: [11.23939535  0.81522178  0.13102656  2.68675502 -2.5228081  -3.55339498\n",
            " 12.93260437]\n",
            "Errors in train dataset:\n",
            "\n",
            "\n",
            "RMSE: 9.012140777905929\n",
            "SSE: 17462.016501170903\n",
            "\n",
            "\n",
            "Errors in test dataset:\n",
            "RMSE: 8.796248628280743\n",
            "SSE: 7195.78106353937\n"
          ]
        },
        {
          "output_type": "stream",
          "name": "stderr",
          "text": [
            "\n"
          ]
        },
        {
          "output_type": "display_data",
          "data": {
            "text/plain": [
              "<Figure size 432x288 with 1 Axes>"
            ],
            "image/png": "[encoded data removed]"
          },
          "metadata": {
            "needs_background": "light"
          }
        }
      ],
      "id": "euvN8n-XKNLe"
    },
    {
      "cell_type": "markdown",
      "source": [
        "Gradient Descent Solution with Regularization"
      ],
      "metadata": {
        "id": "P8OrjRBTKNLe"
      },
      "id": "P8OrjRBTKNLe"
    },
    {
      "cell_type": "code",
      "source": [
        "regression = LinearRegression(df.values[:,0:-1],df.values[:,-1],\n",
        "                              learningRate=0.001,tolerance=0.001, \n",
        "                              maxIteration=50000,gd=True,reg=True,sgd=False)\n",
        "regression.fit()"
      ],
      "metadata": {
        "colab": {
          "base_uri": "https://localhost:8080/",
          "height": 618
        },
        "outputId": "74d464f2-705c-4d4c-8e1b-bc324dcdcbbb",
        "id": "qJbSmZ_AKNLe"
      },
      "execution_count": null,
      "outputs": [
        {
          "output_type": "stream",
          "name": "stdout",
          "text": [
            "Data is Full Rank\n",
            "Data is not low Rank\n",
            "Solving using gradient descent\n"
          ]
        },
        {
          "output_type": "stream",
          "name": "stderr",
          "text": [
            "  3%|▎         | 1702/50000 [00:00<00:01, 37647.03it/s]"
          ]
        },
        {
          "output_type": "stream",
          "name": "stdout",
          "text": [
            "The model stopped as error is too low and meets the stopping criteria\n",
            "\n",
            "\n",
            "Weights: [11.23678214  0.81462076  0.11722244  2.63126503 -2.477602   -3.49968625\n",
            " 12.92956278]\n",
            "Errors in train dataset:\n",
            "\n",
            "\n",
            "RMSE: 9.012177787999722\n",
            "SSE: 17462.159923740848\n",
            "\n",
            "\n",
            "Errors in test dataset:\n",
            "RMSE: 8.79421819084816\n",
            "SSE: 7192.459443706753\n"
          ]
        },
        {
          "output_type": "stream",
          "name": "stderr",
          "text": [
            "\n"
          ]
        },
        {
          "output_type": "display_data",
          "data": {
            "text/plain": [
              "<Figure size 432x288 with 1 Axes>"
            ],
            "image/png": "[encoded data removed]"
          },
          "metadata": {
            "needs_background": "light"
          }
        }
      ],
      "id": "qJbSmZ_AKNLe"
    },
    {
      "cell_type": "markdown",
      "source": [
        "Stochastic Gradient Descent without Regularization"
      ],
      "metadata": {
        "id": "0AapowCMKNLf"
      },
      "id": "0AapowCMKNLf"
    },
    {
      "cell_type": "code",
      "source": [
        "regression = LinearRegression(df.values[:,0:-1],df.values[:,-1],\n",
        "                              learningRate=0.001,tolerance=0.001, \n",
        "                              maxIteration=50000,gd=False,reg=False,sgd=True)\n",
        "regression.fit()"
      ],
      "metadata": {
        "colab": {
          "base_uri": "https://localhost:8080/",
          "height": 618
        },
        "outputId": "3b4e4c90-6709-4ae4-d26c-8237f8946f5d",
        "id": "ogNQ7hzbKNLf"
      },
      "execution_count": null,
      "outputs": [
        {
          "output_type": "stream",
          "name": "stdout",
          "text": [
            "Data is Full Rank\n",
            "Data is not low Rank\n",
            "Solving using Stochastic Gradient Descent\n"
          ]
        },
        {
          "output_type": "stream",
          "name": "stderr",
          "text": [
            "  0%|          | 16/50000 [00:00<02:07, 393.22it/s]"
          ]
        },
        {
          "output_type": "stream",
          "name": "stdout",
          "text": [
            "The model stopped -no further improvement\n",
            "\n",
            "\n",
            "Weights: [11.23939535  0.81777038  0.20009812  2.96171465 -2.74722236 -3.81940809\n",
            " 12.93279955]\n",
            "Errors in train dataset:\n",
            "\n",
            "\n",
            "RMSE: 9.012055013212711\n",
            "SSE: 17461.684145652063\n",
            "\n",
            "\n",
            "Errors in test dataset:\n",
            "RMSE: 8.801660285791135\n",
            "SSE: 7204.637812141976\n"
          ]
        },
        {
          "output_type": "stream",
          "name": "stderr",
          "text": [
            "\n"
          ]
        },
        {
          "output_type": "display_data",
          "data": {
            "text/plain": [
              "<Figure size 432x288 with 1 Axes>"
            ],
            "image/png": "[encoded data removed]"
          },
          "metadata": {
            "needs_background": "light"
          }
        }
      ],
      "id": "ogNQ7hzbKNLf"
    },
    {
      "cell_type": "markdown",
      "source": [
        "Stochastic Gradient Descent With Regularization"
      ],
      "metadata": {
        "id": "qLmJuDIZKNLf"
      },
      "id": "qLmJuDIZKNLf"
    },
    {
      "cell_type": "code",
      "source": [
        "regression = LinearRegression(df.values[:,0:-1],df.values[:,-1],\n",
        "                              learningRate=0.001,tolerance=0.001, \n",
        "                              maxIteration=50000,gd=False,reg=True,sgd=True)\n",
        "regression.fit()"
      ],
      "metadata": {
        "colab": {
          "base_uri": "https://localhost:8080/",
          "height": 618
        },
        "outputId": "94789b20-0e42-45cc-f5a3-f2da1e219cf2",
        "id": "qK4a1JvkKNLf"
      },
      "execution_count": null,
      "outputs": [
        {
          "output_type": "stream",
          "name": "stdout",
          "text": [
            "Data is Full Rank\n",
            "Data is not low Rank\n",
            "Solving using Stochastic Gradient Descent\n"
          ]
        },
        {
          "output_type": "stream",
          "name": "stderr",
          "text": [
            "  0%|          | 21/50000 [00:00<02:14, 370.73it/s]"
          ]
        },
        {
          "output_type": "stream",
          "name": "stdout",
          "text": [
            "The model stopped -no further improvement\n",
            "\n",
            "\n",
            "Weights: [11.23678214  0.81678165  0.17578637  2.86439594 -2.66787685 -3.72523165\n",
            " 12.92972826]\n",
            "Errors in train dataset:\n",
            "\n",
            "\n",
            "RMSE: 9.012068481324068\n",
            "SSE: 17461.73633709606\n",
            "\n",
            "\n",
            "Errors in test dataset:\n",
            "RMSE: 8.798758256824458\n",
            "SSE: 7199.887658169402\n"
          ]
        },
        {
          "output_type": "stream",
          "name": "stderr",
          "text": [
            "\n"
          ]
        },
        {
          "output_type": "display_data",
          "data": {
            "text/plain": [
              "<Figure size 432x288 with 1 Axes>"
            ],
            "image/png": "[encoded data removed]"
          },
          "metadata": {
            "needs_background": "light"
          }
        }
      ],
      "id": "qK4a1JvkKNLf"
    },
    {
      "cell_type": "markdown",
      "source": [
        "## CONCRETE DATASET"
      ],
      "metadata": {
        "id": "UMZ7Q8raKc6c"
      },
      "id": "UMZ7Q8raKc6c"
    },
    {
      "cell_type": "code",
      "source": [
        "df1 = files.upload()"
      ],
      "metadata": {
        "colab": {
          "base_uri": "https://localhost:8080/",
          "height": 74
        },
        "outputId": "26e0e2a1-8b5a-43a3-ab79-2410bae154bc",
        "id": "vd1gDBKVKc6d"
      },
      "execution_count": null,
      "outputs": [
        {
          "output_type": "display_data",
          "data": {
            "text/plain": [
              "<IPython.core.display.HTML object>"
            ],
            "text/html": [
              "\n",
              "     <input type=\"file\" id=\"files-dde24bc9-283d-4079-ac93-1325b6801de1\" name=\"files[]\" multiple disabled\n",
              "        style=\"border:none\" />\n",
              "     <output id=\"result-dde24bc9-283d-4079-ac93-1325b6801de1\">\n",
              "      Upload widget is only available when the cell has been executed in the\n",
              "      current browser session. Please rerun this cell to enable.\n",
              "      </output>\n",
              "      <script>// Copyright 2017 Google LLC\n",
              "//\n",
              "// Licensed under the Apache License, Version 2.0 (the \"License\");\n",
              "// you may not use this file except in compliance with the License.\n",
              "// You may obtain a copy of the License at\n",
              "//\n",
              "//      http://www.apache.org/licenses/LICENSE-2.0\n",
              "//\n",
              "// Unless required by applicable law or agreed to in writing, software\n",
              "// distributed under the License is distributed on an \"AS IS\" BASIS,\n",
              "// WITHOUT WARRANTIES OR CONDITIONS OF ANY KIND, either express or implied.\n",
              "// See the License for the specific language governing permissions and\n",
              "// limitations under the License.\n",
              "\n",
              "/**\n",
              " * @fileoverview Helpers for google.colab Python module.\n",
              " */\n",
              "(function(scope) {\n",
              "function span(text, styleAttributes = {}) {\n",
              "  const element = document.createElement('span');\n",
              "  element.textContent = text;\n",
              "  for (const key of Object.keys(styleAttributes)) {\n",
              "    element.style[key] = styleAttributes[key];\n",
              "  }\n",
              "  return element;\n",
              "}\n",
              "\n",
              "// Max number of bytes which will be uploaded at a time.\n",
              "const MAX_PAYLOAD_SIZE = 100 * 1024;\n",
              "\n",
              "function _uploadFiles(inputId, outputId) {\n",
              "  const steps = uploadFilesStep(inputId, outputId);\n",
              "  const outputElement = document.getElementById(outputId);\n",
              "  // Cache steps on the outputElement to make it available for the next call\n",
              "  // to uploadFilesContinue from Python.\n",
              "  outputElement.steps = steps;\n",
              "\n",
              "  return _uploadFilesContinue(outputId);\n",
              "}\n",
              "\n",
              "// This is roughly an async generator (not supported in the browser yet),\n",
              "// where there are multiple asynchronous steps and the Python side is going\n",
              "// to poll for completion of each step.\n",
              "// This uses a Promise to block the python side on completion of each step,\n",
              "// then passes the result of the previous step as the input to the next step.\n",
              "function _uploadFilesContinue(outputId) {\n",
              "  const outputElement = document.getElementById(outputId);\n",
              "  const steps = outputElement.steps;\n",
              "\n",
              "  const next = steps.next(outputElement.lastPromiseValue);\n",
              "  return Promise.resolve(next.value.promise).then((value) => {\n",
              "    // Cache the last promise value to make it available to the next\n",
              "    // step of the generator.\n",
              "    outputElement.lastPromiseValue = value;\n",
              "    return next.value.response;\n",
              "  });\n",
              "}\n",
              "\n",
              "/**\n",
              " * Generator function which is called between each async step of the upload\n",
              " * process.\n",
              " * @param {string} inputId Element ID of the input file picker element.\n",
              " * @param {string} outputId Element ID of the output display.\n",
              " * @return {!Iterable<!Object>} Iterable of next steps.\n",
              " */\n",
              "function* uploadFilesStep(inputId, outputId) {\n",
              "  const inputElement = document.getElementById(inputId);\n",
              "  inputElement.disabled = false;\n",
              "\n",
              "  const outputElement = document.getElementById(outputId);\n",
              "  outputElement.innerHTML = '';\n",
              "\n",
              "  const pickedPromise = new Promise((resolve) => {\n",
              "    inputElement.addEventListener('change', (e) => {\n",
              "      resolve(e.target.files);\n",
              "    });\n",
              "  });\n",
              "\n",
              "  const cancel = document.createElement('button');\n",
              "  inputElement.parentElement.appendChild(cancel);\n",
              "  cancel.textContent = 'Cancel upload';\n",
              "  const cancelPromise = new Promise((resolve) => {\n",
              "    cancel.onclick = () => {\n",
              "      resolve(null);\n",
              "    };\n",
              "  });\n",
              "\n",
              "  // Wait for the user to pick the files.\n",
              "  const files = yield {\n",
              "    promise: Promise.race([pickedPromise, cancelPromise]),\n",
              "    response: {\n",
              "      action: 'starting',\n",
              "    }\n",
              "  };\n",
              "\n",
              "  cancel.remove();\n",
              "\n",
              "  // Disable the input element since further picks are not allowed.\n",
              "  inputElement.disabled = true;\n",
              "\n",
              "  if (!files) {\n",
              "    return {\n",
              "      response: {\n",
              "        action: 'complete',\n",
              "      }\n",
              "    };\n",
              "  }\n",
              "\n",
              "  for (const file of files) {\n",
              "    const li = document.createElement('li');\n",
              "    li.append(span(file.name, {fontWeight: 'bold'}));\n",
              "    li.append(span(\n",
              "        `(${file.type || 'n/a'}) - ${file.size} bytes, ` +\n",
              "        `last modified: ${\n",
              "            file.lastModifiedDate ? file.lastModifiedDate.toLocaleDateString() :\n",
              "                                    'n/a'} - `));\n",
              "    const percent = span('0% done');\n",
              "    li.appendChild(percent);\n",
              "\n",
              "    outputElement.appendChild(li);\n",
              "\n",
              "    const fileDataPromise = new Promise((resolve) => {\n",
              "      const reader = new FileReader();\n",
              "      reader.onload = (e) => {\n",
              "        resolve(e.target.result);\n",
              "      };\n",
              "      reader.readAsArrayBuffer(file);\n",
              "    });\n",
              "    // Wait for the data to be ready.\n",
              "    let fileData = yield {\n",
              "      promise: fileDataPromise,\n",
              "      response: {\n",
              "        action: 'continue',\n",
              "      }\n",
              "    };\n",
              "\n",
              "    // Use a chunked sending to avoid message size limits. See b/62115660.\n",
              "    let position = 0;\n",
              "    do {\n",
              "      const length = Math.min(fileData.byteLength - position, MAX_PAYLOAD_SIZE);\n",
              "      const chunk = new Uint8Array(fileData, position, length);\n",
              "      position += length;\n",
              "\n",
              "      const base64 = btoa(String.fromCharCode.apply(null, chunk));\n",
              "      yield {\n",
              "        response: {\n",
              "          action: 'append',\n",
              "          file: file.name,\n",
              "          data: base64,\n",
              "        },\n",
              "      };\n",
              "\n",
              "      let percentDone = fileData.byteLength === 0 ?\n",
              "          100 :\n",
              "          Math.round((position / fileData.byteLength) * 100);\n",
              "      percent.textContent = `${percentDone}% done`;\n",
              "\n",
              "    } while (position < fileData.byteLength);\n",
              "  }\n",
              "\n",
              "  // All done.\n",
              "  yield {\n",
              "    response: {\n",
              "      action: 'complete',\n",
              "    }\n",
              "  };\n",
              "}\n",
              "\n",
              "scope.google = scope.google || {};\n",
              "scope.google.colab = scope.google.colab || {};\n",
              "scope.google.colab._files = {\n",
              "  _uploadFiles,\n",
              "  _uploadFilesContinue,\n",
              "};\n",
              "})(self);\n",
              "</script> "
            ]
          },
          "metadata": {}
        },
        {
          "output_type": "stream",
          "name": "stdout",
          "text": [
            "Saving concreteData.csv to concreteData (1).csv\n"
          ]
        }
      ],
      "id": "vd1gDBKVKc6d"
    },
    {
      "cell_type": "code",
      "source": [
        "df=pd.read_csv(\"concreteData.csv\",header=None)\n",
        "df.head()"
      ],
      "metadata": {
        "colab": {
          "base_uri": "https://localhost:8080/",
          "height": 206
        },
        "outputId": "ffac0b67-5087-42dc-84cc-bb1d7d9c6042",
        "id": "ISG9ZnGaKc6d"
      },
      "execution_count": null,
      "outputs": [
        {
          "output_type": "execute_result",
          "data": {
            "text/plain": [
              "       0      1    2      3    4       5      6    7      8\n",
              "0  540.0    0.0  0.0  162.0  2.5  1040.0  676.0   28  79.99\n",
              "1  540.0    0.0  0.0  162.0  2.5  1055.0  676.0   28  61.89\n",
              "2  332.5  142.5  0.0  228.0  0.0   932.0  594.0  270  40.27\n",
              "3  332.5  142.5  0.0  228.0  0.0   932.0  594.0  365  41.05\n",
              "4  198.6  132.4  0.0  192.0  0.0   978.4  825.5  360  44.30"
            ],
            "text/html": [
              "\n",
              "  <div id=\"df-4cf62848-6b59-4c34-a944-f33d18422571\">\n",
              "    <div class=\"colab-df-container\">\n",
              "      <div>\n",
              "<style scoped>\n",
              "    .dataframe tbody tr th:only-of-type {\n",
              "        vertical-align: middle;\n",
              "    }\n",
              "\n",
              "    .dataframe tbody tr th {\n",
              "        vertical-align: top;\n",
              "    }\n",
              "\n",
              "    .dataframe thead th {\n",
              "        text-align: right;\n",
              "    }\n",
              "</style>\n",
              "<table border=\"1\" class=\"dataframe\">\n",
              "  <thead>\n",
              "    <tr style=\"text-align: right;\">\n",
              "      <th></th>\n",
              "      <th>0</th>\n",
              "      <th>1</th>\n",
              "      <th>2</th>\n",
              "      <th>3</th>\n",
              "      <th>4</th>\n",
              "      <th>5</th>\n",
              "      <th>6</th>\n",
              "      <th>7</th>\n",
              "      <th>8</th>\n",
              "    </tr>\n",
              "  </thead>\n",
              "  <tbody>\n",
              "    <tr>\n",
              "      <th>0</th>\n",
              "      <td>540.0</td>\n",
              "      <td>0.0</td>\n",
              "      <td>0.0</td>\n",
              "      <td>162.0</td>\n",
              "      <td>2.5</td>\n",
              "      <td>1040.0</td>\n",
              "      <td>676.0</td>\n",
              "      <td>28</td>\n",
              "      <td>79.99</td>\n",
              "    </tr>\n",
              "    <tr>\n",
              "      <th>1</th>\n",
              "      <td>540.0</td>\n",
              "      <td>0.0</td>\n",
              "      <td>0.0</td>\n",
              "      <td>162.0</td>\n",
              "      <td>2.5</td>\n",
              "      <td>1055.0</td>\n",
              "      <td>676.0</td>\n",
              "      <td>28</td>\n",
              "      <td>61.89</td>\n",
              "    </tr>\n",
              "    <tr>\n",
              "      <th>2</th>\n",
              "      <td>332.5</td>\n",
              "      <td>142.5</td>\n",
              "      <td>0.0</td>\n",
              "      <td>228.0</td>\n",
              "      <td>0.0</td>\n",
              "      <td>932.0</td>\n",
              "      <td>594.0</td>\n",
              "      <td>270</td>\n",
              "      <td>40.27</td>\n",
              "    </tr>\n",
              "    <tr>\n",
              "      <th>3</th>\n",
              "      <td>332.5</td>\n",
              "      <td>142.5</td>\n",
              "      <td>0.0</td>\n",
              "      <td>228.0</td>\n",
              "      <td>0.0</td>\n",
              "      <td>932.0</td>\n",
              "      <td>594.0</td>\n",
              "      <td>365</td>\n",
              "      <td>41.05</td>\n",
              "    </tr>\n",
              "    <tr>\n",
              "      <th>4</th>\n",
              "      <td>198.6</td>\n",
              "      <td>132.4</td>\n",
              "      <td>0.0</td>\n",
              "      <td>192.0</td>\n",
              "      <td>0.0</td>\n",
              "      <td>978.4</td>\n",
              "      <td>825.5</td>\n",
              "      <td>360</td>\n",
              "      <td>44.30</td>\n",
              "    </tr>\n",
              "  </tbody>\n",
              "</table>\n",
              "</div>\n",
              "      <button class=\"colab-df-convert\" onclick=\"convertToInteractive('df-4cf62848-6b59-4c34-a944-f33d18422571')\"\n",
              "              title=\"Convert this dataframe to an interactive table.\"\n",
              "              style=\"display:none;\">\n",
              "        \n",
              "  <svg xmlns=\"http://www.w3.org/2000/svg\" height=\"24px\"viewBox=\"0 0 24 24\"\n",
              "       width=\"24px\">\n",
              "    <path d=\"M0 0h24v24H0V0z\" fill=\"none\"/>\n",
              "    <path d=\"M18.56 5.44l.94 2.06.94-2.06 2.06-.94-2.06-.94-.94-2.06-.94 2.06-2.06.94zm-11 1L8.5 8.5l.94-2.06 2.06-.94-2.06-.94L8.5 2.5l-.94 2.06-2.06.94zm10 10l.94 2.06.94-2.06 2.06-.94-2.06-.94-.94-2.06-.94 2.06-2.06.94z\"/><path d=\"M17.41 7.96l-1.37-1.37c-.4-.4-.92-.59-1.43-.59-.52 0-1.04.2-1.43.59L10.3 9.45l-7.72 7.72c-.78.78-.78 2.05 0 2.83L4 21.41c.39.39.9.59 1.41.59.51 0 1.02-.2 1.41-.59l7.78-7.78 2.81-2.81c.8-.78.8-2.07 0-2.86zM5.41 20L4 18.59l7.72-7.72 1.47 1.35L5.41 20z\"/>\n",
              "  </svg>\n",
              "      </button>\n",
              "      \n",
              "  <style>\n",
              "    .colab-df-container {\n",
              "      display:flex;\n",
              "      flex-wrap:wrap;\n",
              "      gap: 12px;\n",
              "    }\n",
              "\n",
              "    .colab-df-convert {\n",
              "      background-color: #E8F0FE;\n",
              "      border: none;\n",
              "      border-radius: 50%;\n",
              "      cursor: pointer;\n",
              "      display: none;\n",
              "      fill: #1967D2;\n",
              "      height: 32px;\n",
              "      padding: 0 0 0 0;\n",
              "      width: 32px;\n",
              "    }\n",
              "\n",
              "    .colab-df-convert:hover {\n",
              "      background-color: #E2EBFA;\n",
              "      box-shadow: 0px 1px 2px rgba(60, 64, 67, 0.3), 0px 1px 3px 1px rgba(60, 64, 67, 0.15);\n",
              "      fill: #174EA6;\n",
              "    }\n",
              "\n",
              "    [theme=dark] .colab-df-convert {\n",
              "      background-color: #3B4455;\n",
              "      fill: #D2E3FC;\n",
              "    }\n",
              "\n",
              "    [theme=dark] .colab-df-convert:hover {\n",
              "      background-color: #434B5C;\n",
              "      box-shadow: 0px 1px 3px 1px rgba(0, 0, 0, 0.15);\n",
              "      filter: drop-shadow(0px 1px 2px rgba(0, 0, 0, 0.3));\n",
              "      fill: #FFFFFF;\n",
              "    }\n",
              "  </style>\n",
              "\n",
              "      <script>\n",
              "        const buttonEl =\n",
              "          document.querySelector('#df-4cf62848-6b59-4c34-a944-f33d18422571 button.colab-df-convert');\n",
              "        buttonEl.style.display =\n",
              "          google.colab.kernel.accessAllowed ? 'block' : 'none';\n",
              "\n",
              "        async function convertToInteractive(key) {\n",
              "          const element = document.querySelector('#df-4cf62848-6b59-4c34-a944-f33d18422571');\n",
              "          const dataTable =\n",
              "            await google.colab.kernel.invokeFunction('convertToInteractive',\n",
              "                                                     [key], {});\n",
              "          if (!dataTable) return;\n",
              "\n",
              "          const docLinkHtml = 'Like what you see? Visit the ' +\n",
              "            '<a target=\"_blank\" href=https://colab.research.google.com/notebooks/data_table.ipynb>data table notebook</a>'\n",
              "            + ' to learn more about interactive tables.';\n",
              "          element.innerHTML = '';\n",
              "          dataTable['output_type'] = 'display_data';\n",
              "          await google.colab.output.renderOutput(dataTable, element);\n",
              "          const docLink = document.createElement('div');\n",
              "          docLink.innerHTML = docLinkHtml;\n",
              "          element.appendChild(docLink);\n",
              "        }\n",
              "      </script>\n",
              "    </div>\n",
              "  </div>\n",
              "  "
            ]
          },
          "metadata": {},
          "execution_count": 127
        }
      ],
      "id": "ISG9ZnGaKc6d"
    },
    {
      "cell_type": "markdown",
      "source": [
        "#### Closed Form Solution Without Regularization"
      ],
      "metadata": {
        "id": "KGENsO0iKc6e"
      },
      "id": "KGENsO0iKc6e"
    },
    {
      "cell_type": "markdown",
      "source": [],
      "metadata": {
        "id": "X0fIV9i1Kc6e"
      },
      "id": "X0fIV9i1Kc6e"
    },
    {
      "cell_type": "code",
      "source": [
        "regression = LinearRegression(df.values[:,0:-1],df.values[:,-1],\n",
        "                              learningRate=0.0007,tolerance=0.0001, \n",
        "                              maxIteration=50000,gd=False,reg=False,sgd=False)\n",
        "regression.fit()"
      ],
      "metadata": {
        "colab": {
          "base_uri": "https://localhost:8080/"
        },
        "outputId": "83f98137-6eed-43ef-fbff-16875af83f83",
        "id": "R11TSVDkKc6e"
      },
      "execution_count": null,
      "outputs": [
        {
          "output_type": "stream",
          "name": "stdout",
          "text": [
            "Data is Full Rank\n",
            "Data is not low Rank\n",
            "Solving using closed form solution\n",
            "\n",
            "\n",
            "Weights: [35.85368932 12.72547471  9.54463305  5.99752761 -2.82130272  2.10540297\n",
            "  1.85195151  1.95023318  7.17433735]\n",
            "Errors in train dataset:\n",
            "\n",
            "\n",
            "RMSE: 10.64860379952002\n",
            "SSE: 81756.18203586874\n",
            "\n",
            "\n",
            "Errors in test dataset:\n",
            "RMSE: 9.67567754660951\n",
            "SSE: 28928.189419662704\n"
          ]
        }
      ],
      "id": "R11TSVDkKc6e"
    },
    {
      "cell_type": "markdown",
      "source": [
        "Closed Form Solution With Regularization"
      ],
      "metadata": {
        "id": "W-Szd7W7Kc6e"
      },
      "id": "W-Szd7W7Kc6e"
    },
    {
      "cell_type": "code",
      "source": [
        "regression = LinearRegression(df.values[:,0:-1],df.values[:,-1],\n",
        "                              learningRate=0.0007,tolerance=0.0001, \n",
        "                              maxIteration=50000,gd=False,reg=True,sgd=False)\n",
        "regression.fit()"
      ],
      "metadata": {
        "colab": {
          "base_uri": "https://localhost:8080/"
        },
        "outputId": "11ad8706-2f4f-4850-ece5-33d8dab8f064",
        "id": "f5hOabhRKc6e"
      },
      "execution_count": null,
      "outputs": [
        {
          "output_type": "stream",
          "name": "stdout",
          "text": [
            "Data is Full Rank\n",
            "Data is not low Rank\n",
            "Solving using closed form solution\n",
            "\n",
            "\n",
            "Weights: [35.85120311 12.71207657  9.53125197  5.98554438 -2.83037146  2.10528716\n",
            "  1.84262708  1.93830462  7.17327795]\n",
            "Errors in train dataset:\n",
            "\n",
            "\n",
            "RMSE: 10.648605366388999\n",
            "SSE: 81756.20609559288\n",
            "\n",
            "\n",
            "Errors in test dataset:\n",
            "RMSE: 9.675713091328245\n",
            "SSE: 28928.401962141535\n"
          ]
        }
      ],
      "id": "f5hOabhRKc6e"
    },
    {
      "cell_type": "markdown",
      "source": [
        "Gradient Descent Solution without Regularization"
      ],
      "metadata": {
        "id": "y5nPmm2uKc6f"
      },
      "id": "y5nPmm2uKc6f"
    },
    {
      "cell_type": "code",
      "source": [
        "regression = LinearRegression(df.values[:,0:-1],df.values[:,-1],\n",
        "                              learningRate=0.0007,tolerance=0.0001, \n",
        "                              maxIteration=50000,gd=True,reg=False,sgd=False)\n",
        "regression.fit()"
      ],
      "metadata": {
        "colab": {
          "base_uri": "https://localhost:8080/",
          "height": 620
        },
        "outputId": "be910f5e-81f8-446e-95eb-e4e54dea23e5",
        "id": "lyN58lZ4Kc6f"
      },
      "execution_count": null,
      "outputs": [
        {
          "output_type": "stream",
          "name": "stdout",
          "text": [
            "Data is Full Rank\n",
            "Data is not low Rank\n",
            "Solving using gradient descent\n"
          ]
        },
        {
          "output_type": "stream",
          "name": "stderr",
          "text": [
            "  1%|          | 440/50000 [00:00<00:02, 19852.56it/s]"
          ]
        },
        {
          "output_type": "stream",
          "name": "stdout",
          "text": [
            "The model stopped as error is too low and meets the stopping criteria\n",
            "\n",
            "\n",
            "Weights: [35.85368932 12.72033523  9.53947715  5.99298714 -2.82570188  2.10479451\n",
            "  1.84789054  1.94520372  7.17419989]\n",
            "Errors in train dataset:\n",
            "\n",
            "\n",
            "RMSE: 10.648603997670376\n",
            "SSE: 81756.1850785243\n",
            "\n",
            "\n",
            "Errors in test dataset:\n",
            "RMSE: 9.675565408239933\n",
            "SSE: 28927.51888446092\n"
          ]
        },
        {
          "output_type": "stream",
          "name": "stderr",
          "text": [
            "\n"
          ]
        },
        {
          "output_type": "display_data",
          "data": {
            "text/plain": [
              "<Figure size 432x288 with 1 Axes>"
            ],
            "image/png": "[encoded data removed]"
          },
          "metadata": {
            "needs_background": "light"
          }
        }
      ],
      "id": "lyN58lZ4Kc6f"
    },
    {
      "cell_type": "markdown",
      "source": [
        "Gradient Descent Solution with Regularization"
      ],
      "metadata": {
        "id": "xRwxnMJUKc6f"
      },
      "id": "xRwxnMJUKc6f"
    },
    {
      "cell_type": "code",
      "source": [
        "regression = LinearRegression(df.values[:,0:-1],df.values[:,-1],\n",
        "                              learningRate=0.0007,tolerance=0.0001, \n",
        "                              maxIteration=50000,gd=True,reg=True,sgd=False)\n",
        "regression.fit()"
      ],
      "metadata": {
        "colab": {
          "base_uri": "https://localhost:8080/",
          "height": 620
        },
        "outputId": "42e71a2c-f512-4539-c67a-3cbd4ae1b7eb",
        "id": "1H0fyY_uKc6f"
      },
      "execution_count": null,
      "outputs": [
        {
          "output_type": "stream",
          "name": "stdout",
          "text": [
            "Data is Full Rank\n",
            "Data is not low Rank\n",
            "Solving using gradient descent\n"
          ]
        },
        {
          "output_type": "stream",
          "name": "stderr",
          "text": [
            "  1%|          | 503/50000 [00:00<00:01, 33068.46it/s]"
          ]
        },
        {
          "output_type": "stream",
          "name": "stdout",
          "text": [
            "The model stopped as error is too low and meets the stopping criteria\n",
            "\n",
            "\n",
            "Weights: [35.85120311 12.71022503  9.52939453  5.98390864 -2.83195628  2.10506796\n",
            "  1.84116409  1.93649273  7.17322843]\n",
            "Errors in train dataset:\n",
            "\n",
            "\n",
            "RMSE: 10.648605740977416\n",
            "SSE: 81756.21184750636\n",
            "\n",
            "\n",
            "Errors in test dataset:\n",
            "RMSE: 9.675672951611606\n",
            "SSE: 28928.16194356347\n"
          ]
        },
        {
          "output_type": "stream",
          "name": "stderr",
          "text": [
            "\n"
          ]
        },
        {
          "output_type": "display_data",
          "data": {
            "text/plain": [
              "<Figure size 432x288 with 1 Axes>"
            ],
            "image/png": "[encoded data removed]"
          },
          "metadata": {
            "needs_background": "light"
          }
        }
      ],
      "id": "1H0fyY_uKc6f"
    },
    {
      "cell_type": "markdown",
      "source": [
        "Stochastic Gradient Descent without Regularization"
      ],
      "metadata": {
        "id": "89301VRdKc6f"
      },
      "id": "89301VRdKc6f"
    },
    {
      "cell_type": "code",
      "source": [
        "regression = LinearRegression(df.values[:,0:-1],df.values[:,-1],\n",
        "                              learningRate=0.0007,tolerance=0.0001, \n",
        "                              maxIteration=50000,gd=False,reg=False,sgd=True)\n",
        "regression.fit()"
      ],
      "metadata": {
        "colab": {
          "base_uri": "https://localhost:8080/",
          "height": 629
        },
        "outputId": "e5492698-0c7e-467f-e27a-83cef4376d7f",
        "id": "uK5iAuExKc6f"
      },
      "execution_count": null,
      "outputs": [
        {
          "output_type": "stream",
          "name": "stdout",
          "text": [
            "Data is Full Rank\n",
            "Data is not low Rank\n",
            "Solving using Stochastic Gradient Descent\n"
          ]
        },
        {
          "output_type": "stream",
          "name": "stderr",
          "text": [
            "  0%|          | 1/50000 [00:00<27:44, 30.04it/s]"
          ]
        },
        {
          "output_type": "stream",
          "name": "stdout",
          "text": [
            "The model stopped -no further improvement\n",
            "\n",
            "\n",
            "Weights: [35.85368932 12.72547471  9.54463304  5.99752761 -2.82130272  2.10540297\n",
            "  1.85195151  1.95023318  7.17433735]\n",
            "Errors in train dataset:\n",
            "\n",
            "\n",
            "RMSE: 10.64860379952002\n",
            "SSE: 81756.18203586873\n",
            "\n",
            "\n",
            "Errors in test dataset:\n",
            "RMSE: 9.67567754659556\n",
            "SSE: 28928.18941957929\n"
          ]
        },
        {
          "output_type": "stream",
          "name": "stderr",
          "text": [
            "\n"
          ]
        },
        {
          "output_type": "display_data",
          "data": {
            "text/plain": [
              "<Figure size 432x288 with 1 Axes>"
            ],
            "image/png": "[encoded data removed]"
          },
          "metadata": {
            "needs_background": "light"
          }
        }
      ],
      "id": "uK5iAuExKc6f"
    },
    {
      "cell_type": "markdown",
      "source": [
        "Stochastic Gradient Descent With Regularization"
      ],
      "metadata": {
        "id": "tsF99ZSnKc6g"
      },
      "id": "tsF99ZSnKc6g"
    },
    {
      "cell_type": "code",
      "source": [
        "regression = LinearRegression(df.values[:,0:-1],df.values[:,-1],\n",
        "                              learningRate=0.0007,tolerance=0.0001, \n",
        "                              maxIteration=50000,gd=False,reg=True,sgd=True)\n",
        "regression.fit()"
      ],
      "metadata": {
        "colab": {
          "base_uri": "https://localhost:8080/",
          "height": 629
        },
        "outputId": "3b253021-7977-4ea5-e215-9fa0be45dbb7",
        "id": "xEpb5Ze7Kc6g"
      },
      "execution_count": null,
      "outputs": [
        {
          "output_type": "stream",
          "name": "stdout",
          "text": [
            "Data is Full Rank\n",
            "Data is not low Rank\n",
            "Solving using Stochastic Gradient Descent\n"
          ]
        },
        {
          "output_type": "stream",
          "name": "stderr",
          "text": [
            "  0%|          | 2/50000 [00:00<18:33, 44.92it/s]"
          ]
        },
        {
          "output_type": "stream",
          "name": "stdout",
          "text": [
            "The model stopped -no further improvement\n",
            "\n",
            "\n",
            "Weights: [35.85120311 12.71207657  9.53125197  5.98554438 -2.83037146  2.10528716\n",
            "  1.84262708  1.93830462  7.17327795]\n",
            "Errors in train dataset:\n",
            "\n",
            "\n",
            "RMSE: 10.648605366388999\n",
            "SSE: 81756.20609559288\n",
            "\n",
            "\n",
            "Errors in test dataset:\n",
            "RMSE: 9.675713091328241\n",
            "SSE: 28928.401962141525\n"
          ]
        },
        {
          "output_type": "stream",
          "name": "stderr",
          "text": [
            "\n"
          ]
        },
        {
          "output_type": "display_data",
          "data": {
            "text/plain": [
              "<Figure size 432x288 with 1 Axes>"
            ],
            "image/png": "[encoded data removed]"
          },
          "metadata": {
            "needs_background": "light"
          }
        }
      ],
      "id": "xEpb5Ze7Kc6g"
    },
    {
      "cell_type": "markdown",
      "source": [
        "## Effect of Learning Rate (alpha)\n"
      ],
      "metadata": {
        "id": "T2JFiMgabPeG"
      },
      "id": "T2JFiMgabPeG"
    },
    {
      "cell_type": "markdown",
      "source": [
        "If Learning Rate (alpha) is too large:\n",
        "The tetha optimal will keep bouncing around the cost function curve , and never reach the minima. This operation would be terminated at the stopping criteria of max iterations(in this case)\n",
        "\n",
        "If Learning Rate (alpha) is too low:\n",
        "The rate of change will be so little that , it might take forever to converge into the minima "
      ],
      "metadata": {
        "id": "pmJoNqOxcfhn"
      },
      "id": "pmJoNqOxcfhn"
    },
    {
      "cell_type": "markdown",
      "source": [
        "## Effect of Regulariztion Parameter (lambda)\n",
        "\n"
      ],
      "metadata": {
        "id": "G0cIC0dsbuLV"
      },
      "id": "G0cIC0dsbuLV"
    },
    {
      "cell_type": "markdown",
      "source": [
        "If Regularization Parameter (lamda) is too large (e.g.: 1000):\n",
        "With a big lambda value, the total cost function would try to adjust itself, hence resulting in a Theta optimal that is far away from the actual optimal value , this leads to underfitting\n",
        "\n",
        "If Regularization Parameter (lamda) is too small (e.g.: 0.00001):\n",
        "There will be no/very little effect of lambda on the model. This would be equivaent to eliminating the regularization parameter. This means, it would still lead to overfitting"
      ],
      "metadata": {
        "id": "BrXdCmxlckFg"
      },
      "id": "BrXdCmxlckFg"
    }
  ],
  "metadata": {
    "kernelspec": {
      "display_name": "Python 3 (ipykernel)",
      "language": "python",
      "name": "python3"
    },
    "language_info": {
      "codemirror_mode": {
        "name": "ipython",
        "version": 3
      },
      "file_extension": ".py",
      "mimetype": "text/x-python",
      "name": "python",
      "nbconvert_exporter": "python",
      "pygments_lexer": "ipython3",
      "version": "3.9.7"
    },
    "colab": {
      "provenance": [],
      "collapsed_sections": [
        "ISjYo49bKlGG",
        "NeNodzUDJQxs",
        "mjY4oJfMKNLU"
      ],
      "include_colab_link": true
    }
  },
  "nbformat": 4,
  "nbformat_minor": 5
}